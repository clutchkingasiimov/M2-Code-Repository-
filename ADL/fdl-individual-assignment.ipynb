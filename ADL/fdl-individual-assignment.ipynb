{
 "cells": [
  {
   "cell_type": "markdown",
   "id": "c67f8cec",
   "metadata": {
    "id": "HzT-fZzFRKly",
    "papermill": {
     "duration": 0.039164,
     "end_time": "2022-01-16T00:47:30.484898",
     "exception": false,
     "start_time": "2022-01-16T00:47:30.445734",
     "status": "completed"
    },
    "tags": []
   },
   "source": [
    "## FDL- DSBA Assignment 2021-2022\n",
    "\n",
    "### Please fill the blanks in the code and answer to the questions that are asked in the Jupyter Notebook (\"Markdown\" cell). \n",
    "\n",
    "### Instructions: Rename the jupyter adding your name at the end of the title FDL_Assignment-<YOUR NAME\\>.ipynb\n",
    "\n",
    "### Send your solution to fdl.dsba@gmail.com by 20 / 12 / 2021, as subject for the mail please put FDL_Assignment-<YOUR NAME\\>"
   ]
  },
  {
   "cell_type": "markdown",
   "id": "2f6c7112",
   "metadata": {
    "id": "zPUOV6dFRKl7",
    "papermill": {
     "duration": 0.036046,
     "end_time": "2022-01-16T00:47:30.558132",
     "exception": false,
     "start_time": "2022-01-16T00:47:30.522086",
     "status": "completed"
    },
    "tags": []
   },
   "source": [
    "### Question 1 -  TRAIN ON CIFAR DATASET\n",
    "In this exercise you are asked to train a Convolutional Neural Network (CNN) on the CIFAR10 dataset and visualize its feature maps."
   ]
  },
  {
   "cell_type": "markdown",
   "id": "f98e4e09",
   "metadata": {
    "id": "lCX0xLejRKl9",
    "papermill": {
     "duration": 0.034987,
     "end_time": "2022-01-16T00:47:30.630189",
     "exception": false,
     "start_time": "2022-01-16T00:47:30.595202",
     "status": "completed"
    },
    "tags": []
   },
   "source": [
    "1a) Download the CIFAR10 dataset using the already provided PyTorch dataloaders. \n",
    "*   Read and understand the following code\n",
    "*   Feel free to add additional transformations for data augmentation. Explain if so. "
   ]
  },
  {
   "cell_type": "code",
   "execution_count": 1,
   "id": "3e0d7fc3",
   "metadata": {
    "execution": {
     "iopub.execute_input": "2022-01-16T00:47:30.717241Z",
     "iopub.status.busy": "2022-01-16T00:47:30.716484Z",
     "iopub.status.idle": "2022-01-16T00:47:38.145259Z",
     "shell.execute_reply": "2022-01-16T00:47:38.144259Z",
     "shell.execute_reply.started": "2022-01-16T00:38:33.824829Z"
    },
    "id": "5KyVunArRKl-",
    "outputId": "8ca473d9-088c-465c-cc4a-43d992f22b92",
    "papermill": {
     "duration": 7.479248,
     "end_time": "2022-01-16T00:47:38.145415",
     "exception": false,
     "start_time": "2022-01-16T00:47:30.666167",
     "status": "completed"
    },
    "tags": []
   },
   "outputs": [
    {
     "name": "stdout",
     "output_type": "stream",
     "text": [
      "==> Preparing data..\n",
      "Downloading https://www.cs.toronto.edu/~kriz/cifar-10-python.tar.gz to ./data/cifar-10-python.tar.gz\n"
     ]
    },
    {
     "data": {
      "application/vnd.jupyter.widget-view+json": {
       "model_id": "438ef8075f8c484badf56d7bec2411f1",
       "version_major": 2,
       "version_minor": 0
      },
      "text/plain": [
       "  0%|          | 0/170498071 [00:00<?, ?it/s]"
      ]
     },
     "metadata": {},
     "output_type": "display_data"
    },
    {
     "name": "stdout",
     "output_type": "stream",
     "text": [
      "Extracting ./data/cifar-10-python.tar.gz to ./data\n",
      "Files already downloaded and verified\n"
     ]
    }
   ],
   "source": [
    "## Download the CIFAR10 dataset using the PyTorch dataloaders\n",
    "import json \n",
    "from pprint import pprint\n",
    "import torch\n",
    "import torchvision\n",
    "import torchvision.transforms as transforms\n",
    "\n",
    "# *****START CODE \n",
    "## Data\n",
    "##Here you are free to add further transform functions if you wish\n",
    "print('==> Preparing data..')\n",
    "transform_train = transforms.Compose([\n",
    "    transforms.ToTensor(),\n",
    "    transforms.Normalize((0.5,0.5,0.5),(0.5,0.5,0.5))\n",
    "])\n",
    "\n",
    "transform_test = transforms.Compose([\n",
    "    transforms.ToTensor(),\n",
    "])\n",
    "#Batch size chosen = 4\n",
    "trainset = torchvision.datasets.CIFAR10(root='./data', train=True, download=True, transform=transform_train)\n",
    "train_dataloader = torch.utils.data.DataLoader(trainset,batch_size=4, shuffle=True)\n",
    "\n",
    "testset = torchvision.datasets.CIFAR10(root='./data', train=False, download=True, transform=transform_test)\n",
    "val_dataloader = torch.utils.data.DataLoader(testset,batch_size=4, shuffle=False)\n",
    "\n",
    "classes = ('plane', 'car', 'bird', 'cat',\n",
    "           'deer', 'dog', 'frog', 'horse', 'ship', 'truck')\n",
    "# *****END CODE"
   ]
  },
  {
   "cell_type": "code",
   "execution_count": 2,
   "id": "5b393c26",
   "metadata": {
    "execution": {
     "iopub.execute_input": "2022-01-16T00:47:38.274491Z",
     "iopub.status.busy": "2022-01-16T00:47:38.273817Z",
     "iopub.status.idle": "2022-01-16T00:47:38.276645Z",
     "shell.execute_reply": "2022-01-16T00:47:38.277101Z",
     "shell.execute_reply.started": "2022-01-15T19:41:59.279766Z"
    },
    "id": "WMlw5BQfDPbZ",
    "outputId": "a34c2286-bab3-4031-cfdb-39bfa2ed56d7",
    "papermill": {
     "duration": 0.094139,
     "end_time": "2022-01-16T00:47:38.277243",
     "exception": false,
     "start_time": "2022-01-16T00:47:38.183104",
     "status": "completed"
    },
    "tags": []
   },
   "outputs": [
    {
     "data": {
      "text/plain": [
       "True"
      ]
     },
     "execution_count": 2,
     "metadata": {},
     "output_type": "execute_result"
    }
   ],
   "source": [
    "#Check for GPU usage\n",
    "torch.cuda.is_available()"
   ]
  },
  {
   "cell_type": "code",
   "execution_count": 3,
   "id": "ea47b76c",
   "metadata": {
    "execution": {
     "iopub.execute_input": "2022-01-16T00:47:38.356747Z",
     "iopub.status.busy": "2022-01-16T00:47:38.356155Z",
     "iopub.status.idle": "2022-01-16T00:47:38.358669Z",
     "shell.execute_reply": "2022-01-16T00:47:38.359080Z",
     "shell.execute_reply.started": "2022-01-15T19:42:00.712164Z"
    },
    "id": "qV7HoMJbVNnV",
    "outputId": "f7e3809e-3624-498c-ac02-c0df14ac13dd",
    "papermill": {
     "duration": 0.044741,
     "end_time": "2022-01-16T00:47:38.359207",
     "exception": false,
     "start_time": "2022-01-16T00:47:38.314466",
     "status": "completed"
    },
    "tags": []
   },
   "outputs": [
    {
     "data": {
      "text/plain": [
       "<torch.utils.data.dataloader.DataLoader at 0x7f905af74d10>"
      ]
     },
     "execution_count": 3,
     "metadata": {},
     "output_type": "execute_result"
    }
   ],
   "source": [
    "train_dataloader"
   ]
  },
  {
   "cell_type": "code",
   "execution_count": 4,
   "id": "196d9000",
   "metadata": {
    "execution": {
     "iopub.execute_input": "2022-01-16T00:47:38.438852Z",
     "iopub.status.busy": "2022-01-16T00:47:38.438033Z",
     "iopub.status.idle": "2022-01-16T00:47:38.439864Z",
     "shell.execute_reply": "2022-01-16T00:47:38.440280Z",
     "shell.execute_reply.started": "2022-01-16T00:38:42.469734Z"
    },
    "id": "QQmP6c8Kh8Ud",
    "papermill": {
     "duration": 0.043458,
     "end_time": "2022-01-16T00:47:38.440404",
     "exception": false,
     "start_time": "2022-01-16T00:47:38.396946",
     "status": "completed"
    },
    "tags": []
   },
   "outputs": [],
   "source": [
    "#Set device to run on GPU \n",
    "device = torch.device('cuda' if torch.cuda.is_available() else 'cpu')"
   ]
  },
  {
   "cell_type": "code",
   "execution_count": 5,
   "id": "1c4bf64b",
   "metadata": {
    "execution": {
     "iopub.execute_input": "2022-01-16T00:47:38.522026Z",
     "iopub.status.busy": "2022-01-16T00:47:38.521406Z",
     "iopub.status.idle": "2022-01-16T00:47:38.654583Z",
     "shell.execute_reply": "2022-01-16T00:47:38.655038Z",
     "shell.execute_reply.started": "2022-01-16T00:38:43.855335Z"
    },
    "id": "Bytw7vh-EdJe",
    "outputId": "ff49989a-c3a8-4065-c241-13c719af5abc",
    "papermill": {
     "duration": 0.177408,
     "end_time": "2022-01-16T00:47:38.655187",
     "exception": false,
     "start_time": "2022-01-16T00:47:38.477779",
     "status": "completed"
    },
    "tags": []
   },
   "outputs": [
    {
     "data": {
      "image/png": "[encoded data removed]",
      "text/plain": [
       "<Figure size 864x432 with 1 Axes>"
      ]
     },
     "metadata": {},
     "output_type": "display_data"
    }
   ],
   "source": [
    "from torchvision.utils import make_grid\n",
    "import matplotlib.pyplot as plt\n",
    "\n",
    "#Show images \n",
    "def show_batch(dl):\n",
    "    for images, labels in dl:\n",
    "        fig, ax = plt.subplots(figsize=(12, 6))\n",
    "        ax.set_xticks([]); ax.set_yticks([])\n",
    "        ax.imshow(make_grid(images, nrow=16).permute(1, 2, 0))\n",
    "        break\n",
    "\n",
    "show_batch(train_dataloader)"
   ]
  },
  {
   "cell_type": "markdown",
   "id": "f710b9a5",
   "metadata": {
    "papermill": {
     "duration": 0.038229,
     "end_time": "2022-01-16T00:47:38.731746",
     "exception": false,
     "start_time": "2022-01-16T00:47:38.693517",
     "status": "completed"
    },
    "tags": []
   },
   "source": []
  },
  {
   "cell_type": "markdown",
   "id": "5f1a8bba",
   "metadata": {
    "id": "3S-ITJo9RKmA",
    "papermill": {
     "duration": 0.03801,
     "end_time": "2022-01-16T00:47:38.808422",
     "exception": false,
     "start_time": "2022-01-16T00:47:38.770412",
     "status": "completed"
    },
    "tags": []
   },
   "source": [
    "1b) Create your convolutional neural network.\n",
    "*   Go to https://dljudge.io/generate + /<YOUR NAME\\> or use curl below\n",
    "*   Save the page as json \n",
    "*   Build your CNN architecture based on those modules and hyperparameters\n",
    "*   Use the right value for 'COMPUTE' \n",
    "*   See the example below"
   ]
  },
  {
   "cell_type": "code",
   "execution_count": 6,
   "id": "ec7d2efe",
   "metadata": {
    "execution": {
     "iopub.execute_input": "2022-01-16T00:47:38.891740Z",
     "iopub.status.busy": "2022-01-16T00:47:38.890975Z",
     "iopub.status.idle": "2022-01-16T00:47:40.800856Z",
     "shell.execute_reply": "2022-01-16T00:47:40.800410Z",
     "shell.execute_reply.started": "2022-01-01T17:25:10.760366Z"
    },
    "id": "hoF9CYQVCPCM",
    "outputId": "205aca55-9650-42b5-fe86-5363ca9fbaf9",
    "papermill": {
     "duration": 1.953999,
     "end_time": "2022-01-16T00:47:40.801010",
     "exception": false,
     "start_time": "2022-01-16T00:47:38.847011",
     "status": "completed"
    },
    "tags": []
   },
   "outputs": [
    {
     "name": "stdout",
     "output_type": "stream",
     "text": [
      "  % Total    % Received % Xferd  Average Speed   Time    Time     Time  Current\r\n",
      "                                 Dload  Upload   Total   Spent    Left  Speed\r\n",
      "100  2486  100  2486    0     0   2241      0  0:00:01  0:00:01 --:--:--  2241\r\n"
     ]
    }
   ],
   "source": [
    "!curl https://dljudge.io/generate/johnsmith -o network1.json"
   ]
  },
  {
   "cell_type": "code",
   "execution_count": 7,
   "id": "5af2e358",
   "metadata": {
    "execution": {
     "iopub.execute_input": "2022-01-16T00:47:40.891744Z",
     "iopub.status.busy": "2022-01-16T00:47:40.881772Z",
     "iopub.status.idle": "2022-01-16T00:47:40.894181Z",
     "shell.execute_reply": "2022-01-16T00:47:40.893707Z",
     "shell.execute_reply.started": "2022-01-16T00:38:47.926644Z"
    },
    "id": "KpJMxQLVCPCP",
    "papermill": {
     "duration": 0.054477,
     "end_time": "2022-01-16T00:47:40.894310",
     "exception": false,
     "start_time": "2022-01-16T00:47:40.839833",
     "status": "completed"
    },
    "tags": []
   },
   "outputs": [],
   "source": [
    "def validate_network(model, input_dict):\n",
    "    \"\"\"\n",
    "    Validate if your network definition is same as provided archtiecture\n",
    "    \"\"\"\n",
    "    output = {}\n",
    "    i = 1\n",
    "    for layer in model.children():\n",
    "        if isinstance(layer, nn.Conv2d):\n",
    "            output[f'Layer_{str(i).zfill(3)}'] = {'type': 'Conv2d',\n",
    "                                                  'kernel_size': layer.kernel_size[0],\n",
    "                                                   'input': layer.in_channels,\n",
    "                                                   'output': layer.out_channels,\n",
    "                                                   'padding': layer.padding[0]}\n",
    "\n",
    "        if isinstance(layer, nn.ReLU):\n",
    "            output[f'Layer_{str(i).zfill(3)}'] = {'type': 'ReLU'}\n",
    "\n",
    "        if isinstance(layer, nn.MaxPool2d):\n",
    "            output[f'Layer_{str(i).zfill(3)}'] = {'type': 'MaxPool2d',\n",
    "                                                  'kernel_size': layer.kernel_size,\n",
    "                                                  'stride': layer.stride}\n",
    "\n",
    "        if isinstance(layer, nn.AdaptiveAvgPool2d):\n",
    "            output[f'Layer_{str(i).zfill(3)}'] = {'type': 'AdaptiveAvgPool2d',\n",
    "                                                  'output': layer.output_size}\n",
    "\n",
    "        if isinstance(layer, nn.BatchNorm2d):\n",
    "            output[f'Layer_{str(i).zfill(3)}'] = {'type': 'BatchNorm2d',\n",
    "                                                  'input': layer.num_features}\n",
    "\n",
    "        if isinstance(layer, nn.Dropout):\n",
    "            output[f'Layer_{str(i).zfill(3)}'] = {'type': 'Dropout',\n",
    "                                                  'p': layer.p}\n",
    "\n",
    "        if isinstance(layer, nn.Linear):\n",
    "            output[f'Layer_{str(i).zfill(3)}'] = {'type': 'Linear',\n",
    "                                                  'input': layer.in_features,\n",
    "                                                  'output': layer.out_features}\n",
    "\n",
    "        i += 1\n",
    "\n",
    "    \n",
    "    correct = True\n",
    "    for l in output.keys():\n",
    "        if l in input_dict:\n",
    "            inp_kvs = input_dict[l]\n",
    "            out_kvs = output[l]\n",
    "            for k in out_kvs:\n",
    "                if inp_kvs[k] != 'COMPUTE':\n",
    "                    if out_kvs[k] != inp_kvs[k]:\n",
    "                        print (f'Error in {l}, {k}!')\n",
    "                        correct = False\n",
    "\n",
    "    if correct:\n",
    "        print ('OK!')"
   ]
  },
  {
   "cell_type": "code",
   "execution_count": 8,
   "id": "cb3ff1f8",
   "metadata": {
    "execution": {
     "iopub.execute_input": "2022-01-16T00:47:40.981809Z",
     "iopub.status.busy": "2022-01-16T00:47:40.981320Z",
     "iopub.status.idle": "2022-01-16T00:47:41.034025Z",
     "shell.execute_reply": "2022-01-16T00:47:41.033563Z",
     "shell.execute_reply.started": "2022-01-16T00:38:49.216602Z"
    },
    "id": "cpmBku56CPCR",
    "outputId": "c6e57fe4-fc94-4cb2-f544-7f3309e4fca1",
    "papermill": {
     "duration": 0.097527,
     "end_time": "2022-01-16T00:47:41.034195",
     "exception": false,
     "start_time": "2022-01-16T00:47:40.936668",
     "status": "completed"
    },
    "tags": []
   },
   "outputs": [
    {
     "name": "stdout",
     "output_type": "stream",
     "text": [
      "{'Layer_001': {'input': 3,\n",
      "               'kernel_size': 3,\n",
      "               'output': 55,\n",
      "               'padding': 1,\n",
      "               'type': 'Conv2d'},\n",
      " 'Layer_002': {'type': 'ReLU'},\n",
      " 'Layer_003': {'input': 55,\n",
      "               'kernel_size': 3,\n",
      "               'output': 55,\n",
      "               'padding': 1,\n",
      "               'type': 'Conv2d'},\n",
      " 'Layer_004': {'type': 'ReLU'},\n",
      " 'Layer_005': {'kernel_size': 2, 'stride': 2, 'type': 'MaxPool2d'},\n",
      " 'Layer_006': {'input': 55,\n",
      "               'kernel_size': 3,\n",
      "               'output': 139,\n",
      "               'padding': 1,\n",
      "               'type': 'Conv2d'},\n",
      " 'Layer_007': {'type': 'ReLU'},\n",
      " 'Layer_008': {'input': 139,\n",
      "               'kernel_size': 3,\n",
      "               'output': 139,\n",
      "               'padding': 1,\n",
      "               'type': 'Conv2d'},\n",
      " 'Layer_009': {'type': 'ReLU'},\n",
      " 'Layer_010': {'kernel_size': 2, 'stride': 2, 'type': 'MaxPool2d'},\n",
      " 'Layer_011': {'input': 139,\n",
      "               'kernel_size': 3,\n",
      "               'output': 240,\n",
      "               'padding': 1,\n",
      "               'type': 'Conv2d'},\n",
      " 'Layer_012': {'type': 'ReLU'},\n",
      " 'Layer_013': {'input': 240,\n",
      "               'kernel_size': 3,\n",
      "               'output': 240,\n",
      "               'padding': 1,\n",
      "               'type': 'Conv2d'},\n",
      " 'Layer_014': {'type': 'ReLU'},\n",
      " 'Layer_015': {'input': 240,\n",
      "               'kernel_size': 3,\n",
      "               'output': 240,\n",
      "               'padding': 1,\n",
      "               'type': 'Conv2d'},\n",
      " 'Layer_016': {'type': 'ReLU'},\n",
      " 'Layer_017': {'input': 240,\n",
      "               'kernel_size': 3,\n",
      "               'output': 240,\n",
      "               'padding': 1,\n",
      "               'type': 'Conv2d'},\n",
      " 'Layer_018': {'type': 'ReLU'},\n",
      " 'Layer_019': {'kernel_size': 2, 'stride': 2, 'type': 'MaxPool2d'},\n",
      " 'Layer_020': {'input': 240,\n",
      "               'kernel_size': 3,\n",
      "               'output': 504,\n",
      "               'padding': 1,\n",
      "               'type': 'Conv2d'},\n",
      " 'Layer_021': {'type': 'ReLU'},\n",
      " 'Layer_022': {'input': 504,\n",
      "               'kernel_size': 3,\n",
      "               'output': 504,\n",
      "               'padding': 1,\n",
      "               'type': 'Conv2d'},\n",
      " 'Layer_023': {'type': 'ReLU'},\n",
      " 'Layer_024': {'input': 504,\n",
      "               'kernel_size': 3,\n",
      "               'output': 504,\n",
      "               'padding': 1,\n",
      "               'type': 'Conv2d'},\n",
      " 'Layer_025': {'type': 'ReLU'},\n",
      " 'Layer_026': {'input': 504,\n",
      "               'kernel_size': 3,\n",
      "               'output': 504,\n",
      "               'padding': 1,\n",
      "               'type': 'Conv2d'},\n",
      " 'Layer_027': {'type': 'ReLU'},\n",
      " 'Layer_028': {'kernel_size': 2, 'stride': 2, 'type': 'MaxPool2d'},\n",
      " 'Layer_029': {'input': 504,\n",
      "               'kernel_size': 3,\n",
      "               'output': 504,\n",
      "               'padding': 1,\n",
      "               'type': 'Conv2d'},\n",
      " 'Layer_030': {'type': 'ReLU'},\n",
      " 'Layer_031': {'input': 504,\n",
      "               'kernel_size': 3,\n",
      "               'output': 504,\n",
      "               'padding': 1,\n",
      "               'type': 'Conv2d'},\n",
      " 'Layer_032': {'type': 'ReLU'},\n",
      " 'Layer_033': {'input': 504,\n",
      "               'kernel_size': 3,\n",
      "               'output': 504,\n",
      "               'padding': 1,\n",
      "               'type': 'Conv2d'},\n",
      " 'Layer_034': {'type': 'ReLU'},\n",
      " 'Layer_035': {'input': 504,\n",
      "               'kernel_size': 3,\n",
      "               'output': 504,\n",
      "               'padding': 1,\n",
      "               'type': 'Conv2d'},\n",
      " 'Layer_036': {'type': 'ReLU'},\n",
      " 'Layer_037': {'kernel_size': 2, 'stride': 2, 'type': 'MaxPool2d'},\n",
      " 'Layer_038': {'output': 'COMPUTE', 'type': 'AdaptiveAvgPool2d'},\n",
      " 'Layer_039': {'p': 0.44835135515457525, 'type': 'Dropout'},\n",
      " 'Layer_040': {'input': 'COMPUTE', 'output': 2085, 'type': 'Linear'},\n",
      " 'Layer_041': {'type': 'ReLU'},\n",
      " 'Layer_042': {'input': 2085, 'output': 'COMPUTE', 'type': 'Linear'},\n",
      " 'StudentName': 'saurajverma',\n",
      " 'UUID': 'ff56421d21794b9ea9ced4dd3b8be897'}\n"
     ]
    }
   ],
   "source": [
    "# *****START CODE \n",
    "# Import your individual architecture dictionnary here\n",
    "fin = open(\"../input/cnn-json-file/saurajverma.json\", 'r')\n",
    "my_architecture_dict = json.load(fin)\n",
    "fin.close()\n",
    "\n",
    "pprint(my_architecture_dict)\n",
    "# *****END CODE"
   ]
  },
  {
   "cell_type": "code",
   "execution_count": 9,
   "id": "8ecc2e5f",
   "metadata": {
    "execution": {
     "iopub.execute_input": "2022-01-16T00:47:41.137704Z",
     "iopub.status.busy": "2022-01-16T00:47:41.137106Z",
     "iopub.status.idle": "2022-01-16T00:47:41.139890Z",
     "shell.execute_reply": "2022-01-16T00:47:41.139461Z",
     "shell.execute_reply.started": "2022-01-16T00:38:51.508833Z"
    },
    "id": "9hb1skoXRKmA",
    "papermill": {
     "duration": 0.066304,
     "end_time": "2022-01-16T00:47:41.140026",
     "exception": false,
     "start_time": "2022-01-16T00:47:41.073722",
     "status": "completed"
    },
    "tags": []
   },
   "outputs": [],
   "source": [
    "from torch.nn.modules.dropout import Dropout\n",
    "import torch\n",
    "import torch.nn as nn\n",
    "import torch.nn.functional as F\n",
    "\n",
    "# *****START CODE\n",
    "class ConvNet(nn.Module):\n",
    "    def __init__(self):\n",
    "        super(ConvNet, self).__init__()\n",
    "        \"\"\"\n",
    "        Number of layers should be exactly same as in the provided JSON. \n",
    "        Do not use any grouping function like Sequential \n",
    "        \"\"\"\n",
    "        self.conv1 = nn.Conv2d(3,55,kernel_size=3,padding=1)\n",
    "        self.activation1 = nn.ReLU()\n",
    "        self.conv2 = nn.Conv2d(55,55,kernel_size=3,padding=1)\n",
    "        self.activation2 = nn.ReLU()\n",
    "        self.pooling1 = nn.MaxPool2d(kernel_size=2,stride=2)\n",
    "        self.conv3 = nn.Conv2d(55,139,kernel_size=3,padding=1)\n",
    "        self.activation3 = nn.ReLU()\n",
    "        self.conv4 = nn.Conv2d(139,139,kernel_size=3,padding=1)\n",
    "        self.activation4 = nn.ReLU()\n",
    "        self.pooling2 = nn.MaxPool2d(kernel_size=2,stride=2)\n",
    "        self.conv5 = nn.Conv2d(139,240,kernel_size=3,padding=1)\n",
    "        self.activation5 = nn.ReLU()\n",
    "        self.conv6 = nn.Conv2d(240,240,kernel_size=3,padding=1)\n",
    "        self.activation6 = nn.ReLU()\n",
    "        self.conv7 = nn.Conv2d(240,240,kernel_size=3,padding=1)\n",
    "        self.activation7 = nn.ReLU()\n",
    "        self.conv8 = nn.Conv2d(240,240,kernel_size=3,padding=1)\n",
    "        self.activation8 = nn.ReLU()\n",
    "        self.pooling3 = nn.MaxPool2d(2,2)\n",
    "        self.conv9 = nn.Conv2d(240,504,kernel_size=3,padding=1)\n",
    "        self.activation9 = nn.ReLU()\n",
    "        self.conv10 = nn.Conv2d(504,504,kernel_size=3,padding=1)\n",
    "        self.activation10 = nn.ReLU()\n",
    "        self.conv11 = nn.Conv2d(504,504,kernel_size=3,padding=1)\n",
    "        self.activation11 = nn.ReLU()\n",
    "        self.conv12 = nn.Conv2d(504,504,kernel_size=3,padding=1)\n",
    "        self.activation12 = nn.ReLU()\n",
    "        self.pooling4 = nn.MaxPool2d(2,2)\n",
    "        self.conv13 = nn.Conv2d(504,504,kernel_size=3,padding=1)\n",
    "        self.activation13 = nn.ReLU()\n",
    "        self.conv14 = nn.Conv2d(504,504,kernel_size=3,padding=1)\n",
    "        self.activation14 = nn.ReLU()\n",
    "        self.conv15 = nn.Conv2d(504,504,kernel_size=3,padding=1)\n",
    "        self.activation15 = nn.ReLU()\n",
    "        self.conv16 = nn.Conv2d(504,504,kernel_size=3,padding=1)\n",
    "        self.activation16 = nn.ReLU()\n",
    "        self.pooling5 = nn.MaxPool2d(2,2)\n",
    "        self.pooling6 = nn.AdaptiveAvgPool2d((1,1))\n",
    "        self.dropout = Dropout(0.44835135515457525)\n",
    "        self.linear1 = nn.Linear(504,2085)\n",
    "        self.activation17 = nn.ReLU()\n",
    "        self.linear2 = nn.Linear(2085,10)\n",
    "        \n",
    "    def forward(self, x):\n",
    "        x = self.conv1(x)\n",
    "        x = self.activation1(x)\n",
    "        x = self.conv2(x)\n",
    "        x = self.activation2(x)\n",
    "        x = self.pooling1(x)\n",
    "        x = self.conv3(x)\n",
    "        x = self.activation3(x)\n",
    "        x = self.conv4(x)\n",
    "        x = self.activation4(x)\n",
    "        x = self.pooling2(x)\n",
    "        x = self.conv5(x)\n",
    "        x = self.activation5(x)\n",
    "        x = self.conv6(x)\n",
    "        x = self.activation6(x)\n",
    "        x = self.conv7(x)\n",
    "        x = self.activation7(x)\n",
    "        x = self.conv8(x)\n",
    "        x = self.activation8(x)\n",
    "        x = self.pooling3(x)\n",
    "        x = self.conv9(x)\n",
    "        x = self.activation9(x)\n",
    "        x = self.conv10(x)\n",
    "        x = self.activation10(x)\n",
    "        x = self.conv11(x)\n",
    "        x = self.activation11(x)\n",
    "        x = self.conv12(x)\n",
    "        x = self.activation12(x)\n",
    "        x = self.pooling4(x)\n",
    "        x = self.conv13(x)\n",
    "        x = self.activation13(x)\n",
    "        x = self.conv14(x)\n",
    "        x = self.activation14(x)\n",
    "        x = self.conv15(x)\n",
    "        x = self.activation15(x)\n",
    "        x = self.conv16(x)\n",
    "        x = self.activation16(x)\n",
    "        x = self.pooling5(x)\n",
    "        x = self.pooling6(x)\n",
    "        x = torch.flatten(x,1) #Flatten layer \n",
    "        x = self.dropout(x)\n",
    "        x = self.linear1(x)\n",
    "        x = self.activation17(x)\n",
    "        x = self.linear2(x)\n",
    "        return x\n",
    "# *****END CODE"
   ]
  },
  {
   "cell_type": "markdown",
   "id": "451ec674",
   "metadata": {
    "papermill": {
     "duration": 0.039647,
     "end_time": "2022-01-16T00:47:41.218720",
     "exception": false,
     "start_time": "2022-01-16T00:47:41.179073",
     "status": "completed"
    },
    "tags": []
   },
   "source": [
    "I also wrote down **LeNet** since the above architecture implementation seemed to perform really bad, hence I wanted to make sure that the performance hindrance was not from my side but rather because of the network architecture. "
   ]
  },
  {
   "cell_type": "code",
   "execution_count": 10,
   "id": "71ec2257",
   "metadata": {
    "execution": {
     "iopub.execute_input": "2022-01-16T00:47:41.299777Z",
     "iopub.status.busy": "2022-01-16T00:47:41.298998Z",
     "iopub.status.idle": "2022-01-16T00:47:41.303476Z",
     "shell.execute_reply": "2022-01-16T00:47:41.303062Z",
     "shell.execute_reply.started": "2022-01-15T19:42:22.608917Z"
    },
    "papermill": {
     "duration": 0.04589,
     "end_time": "2022-01-16T00:47:41.303586",
     "exception": false,
     "start_time": "2022-01-16T00:47:41.257696",
     "status": "completed"
    },
    "tags": []
   },
   "outputs": [],
   "source": [
    "# class LeNet(nn.Module):\n",
    "#     def __init__(self):\n",
    "#         super(LeNet, self).__init__()\n",
    "#         self.conv1 = nn.Conv2d(3, 16, 3, 1, padding=1) # input is color image, hence 3 i/p channels. 16 filters, kernal size is tuned to 3 to avoid overfitting, stride is 1 , padding is 1 extract all edge features.\n",
    "#         self.conv2 = nn.Conv2d(16, 32, 3, 1, padding=1) # We double the feature maps for every conv layer as in pratice it is really good.\n",
    "#         self.conv3 = nn.Conv2d(32, 64, 3, 1, padding=1)\n",
    "#         self.fc1 = nn.Linear(4*4*64, 500) # I/p image size is 32*32, after 3 MaxPooling layers it reduces to 4*4 and 64 because our last conv layer has 64 outputs. Output nodes is 500\n",
    "#         self.fc2 = nn.Linear(500, 10) # output nodes are 10 because our dataset have 10 different categories\n",
    "#     def forward(self, x):\n",
    "#         x = F.relu(self.conv1(x)) #Apply relu to each output of conv layer.\n",
    "#         x = F.max_pool2d(x, 2, 2) # Max pooling layer with kernal of 2 and stride of 2\n",
    "#         x = F.relu(self.conv2(x))\n",
    "#         x = F.max_pool2d(x, 2, 2)\n",
    "#         x = F.relu(self.conv3(x))\n",
    "#         x = F.max_pool2d(x, 2, 2)\n",
    "#         x = x.view(-1, 4*4*64) # flatten our images to 1D to input it to the fully connected layers\n",
    "#         x = F.relu(self.fc1(x))\n",
    "#         x = self.fc2(x)\n",
    "#         return x"
   ]
  },
  {
   "cell_type": "code",
   "execution_count": 11,
   "id": "82b53087",
   "metadata": {
    "execution": {
     "iopub.execute_input": "2022-01-16T00:47:41.398912Z",
     "iopub.status.busy": "2022-01-16T00:47:41.394241Z",
     "iopub.status.idle": "2022-01-16T00:47:41.692222Z",
     "shell.execute_reply": "2022-01-16T00:47:41.691717Z",
     "shell.execute_reply.started": "2022-01-16T00:39:14.003583Z"
    },
    "papermill": {
     "duration": 0.349796,
     "end_time": "2022-01-16T00:47:41.692354",
     "exception": false,
     "start_time": "2022-01-16T00:47:41.342558",
     "status": "completed"
    },
    "tags": []
   },
   "outputs": [
    {
     "name": "stdout",
     "output_type": "stream",
     "text": [
      "torch.Size([4, 3, 32, 32])\n",
      "torch.Size([4, 55, 32, 32])\n",
      "torch.Size([4, 55, 32, 32])\n",
      "torch.Size([4, 55, 16, 16])\n",
      "torch.Size([4, 139, 16, 16])\n",
      "torch.Size([4, 139, 16, 16])\n",
      "torch.Size([4, 139, 8, 8])\n",
      "torch.Size([4, 240, 8, 8])\n",
      "torch.Size([4, 240, 8, 8])\n",
      "torch.Size([4, 240, 8, 8])\n",
      "torch.Size([4, 240, 8, 8])\n",
      "torch.Size([4, 240, 4, 4])\n",
      "torch.Size([4, 504, 4, 4])\n",
      "torch.Size([4, 504, 4, 4])\n",
      "torch.Size([4, 504, 4, 4])\n",
      "torch.Size([4, 504, 4, 4])\n",
      "torch.Size([4, 504, 2, 2])\n",
      "torch.Size([4, 504, 2, 2])\n",
      "torch.Size([4, 504, 2, 2])\n",
      "torch.Size([4, 504, 2, 2])\n",
      "torch.Size([4, 504, 2, 2])\n",
      "torch.Size([4, 504, 1, 1])\n",
      "torch.Size([4, 504, 1, 1])\n",
      "torch.Size([4, 504])\n"
     ]
    }
   ],
   "source": [
    "conv1 = nn.Conv2d(3,55,kernel_size=3,padding=1)\n",
    "conv2 = nn.Conv2d(55,55,kernel_size=3,padding=1)\n",
    "pooling1 = nn.MaxPool2d(kernel_size=2,stride=2)\n",
    "conv3 = nn.Conv2d(55,139,kernel_size=3,padding=1)\n",
    "conv4 = nn.Conv2d(139,139,kernel_size=3,padding=1)\n",
    "pooling2 = nn.MaxPool2d(kernel_size=2,stride=2)\n",
    "conv5 = nn.Conv2d(139,240,kernel_size=3,padding=1)\n",
    "conv6 = nn.Conv2d(240,240,kernel_size=3,padding=1)\n",
    "conv7 = nn.Conv2d(240,240,kernel_size=3,padding=1)\n",
    "conv8 = nn.Conv2d(240,240,kernel_size=3,padding=1)\n",
    "pooling3 = nn.MaxPool2d(2,2)\n",
    "conv9 = nn.Conv2d(240,504,kernel_size=3,padding=1)\n",
    "conv10 = nn.Conv2d(504,504,kernel_size=3,padding=1)\n",
    "conv11 = nn.Conv2d(504,504,kernel_size=3,padding=1)\n",
    "conv12 = nn.Conv2d(504,504,kernel_size=3,padding=1)\n",
    "pooling4 = nn.MaxPool2d(2,2)\n",
    "conv13 = nn.Conv2d(504,504,kernel_size=3,padding=1)\n",
    "conv14 = nn.Conv2d(504,504,kernel_size=3,padding=1)\n",
    "conv15 = nn.Conv2d(504,504,kernel_size=3,padding=1)\n",
    "conv16 = nn.Conv2d(504,504,kernel_size=3,padding=1)\n",
    "pooling5 = nn.MaxPool2d(2,2)\n",
    "pooling6 = nn.AdaptiveAvgPool2d((1,1))\n",
    "\n",
    "\n",
    "dataiter = iter(train_dataloader)\n",
    "images,labels = dataiter.next()\n",
    "\n",
    "print(images.shape)\n",
    "\n",
    "x = conv1(images)\n",
    "print(x.shape)\n",
    "x = conv2(x)\n",
    "print(x.shape)\n",
    "x = pooling1(x)\n",
    "print(x.shape)\n",
    "x = conv3(x)\n",
    "print(x.shape)\n",
    "x = conv4(x)\n",
    "print(x.shape)\n",
    "x = pooling2(x)\n",
    "print(x.shape)\n",
    "x = conv5(x)\n",
    "print(x.shape)\n",
    "x = conv6(x)\n",
    "print(x.shape)\n",
    "x = conv7(x)\n",
    "print(x.shape)\n",
    "x = conv8(x)\n",
    "print(x.shape)\n",
    "x = pooling3(x)\n",
    "print(x.shape)\n",
    "x = conv9(x)\n",
    "print(x.shape)\n",
    "x = conv10(x)\n",
    "print(x.shape)\n",
    "x = conv11(x)\n",
    "print(x.shape)\n",
    "x = conv12(x)\n",
    "print(x.shape)\n",
    "x = pooling4(x)\n",
    "print(x.shape)\n",
    "x = conv13(x)\n",
    "print(x.shape)\n",
    "x = conv14(x)\n",
    "print(x.shape)\n",
    "x = conv15(x)\n",
    "print(x.shape)\n",
    "x = conv16(x)\n",
    "print(x.shape)\n",
    "x = pooling5(x)\n",
    "print(x.shape)\n",
    "x = pooling6(x)\n",
    "print(x.shape)\n",
    "x = torch.flatten(x,1)\n",
    "print(x.shape)\n"
   ]
  },
  {
   "cell_type": "markdown",
   "id": "bfd572d6",
   "metadata": {
    "id": "1oCW4FGORKmC",
    "papermill": {
     "duration": 0.039777,
     "end_time": "2022-01-16T00:47:41.772009",
     "exception": false,
     "start_time": "2022-01-16T00:47:41.732232",
     "status": "completed"
    },
    "tags": []
   },
   "source": [
    "1c) Create the training scheme\n",
    "*    Initialize the model\n",
    "*    Validate the model\n",
    "*    Specify the training hyperparameters like type of optimizer, criterion and learning rate\n",
    "*    Specify number of epochs"
   ]
  },
  {
   "cell_type": "code",
   "execution_count": 12,
   "id": "d70fdf32",
   "metadata": {
    "execution": {
     "iopub.execute_input": "2022-01-16T00:47:41.856586Z",
     "iopub.status.busy": "2022-01-16T00:47:41.855827Z",
     "iopub.status.idle": "2022-01-16T00:47:44.929905Z",
     "shell.execute_reply": "2022-01-16T00:47:44.929440Z",
     "shell.execute_reply.started": "2022-01-16T00:39:18.133526Z"
    },
    "id": "emDRadjhRKmD",
    "papermill": {
     "duration": 3.118353,
     "end_time": "2022-01-16T00:47:44.930064",
     "exception": false,
     "start_time": "2022-01-16T00:47:41.811711",
     "status": "completed"
    },
    "tags": []
   },
   "outputs": [],
   "source": [
    "# *****START CODE\n",
    "lr = 0.01\n",
    "model = ConvNet().to(device) #Original JSON architecture\n",
    "# model2 = LeNet().to(device) #LeNet for sanity check \n",
    "optimizer = torch.optim.SGD(model.parameters(),lr=lr)\n",
    "# optimizer2 = torch.optim.SGD(model2.parameters(),lr=lr)\n",
    "criterion = nn.CrossEntropyLoss()\n",
    "epochs = 10\n",
    "# *****END CODE"
   ]
  },
  {
   "cell_type": "code",
   "execution_count": 13,
   "id": "49bd9cc8",
   "metadata": {
    "execution": {
     "iopub.execute_input": "2022-01-16T00:47:45.015184Z",
     "iopub.status.busy": "2022-01-16T00:47:45.014550Z",
     "iopub.status.idle": "2022-01-16T00:47:45.017325Z",
     "shell.execute_reply": "2022-01-16T00:47:45.017764Z",
     "shell.execute_reply.started": "2022-01-16T00:39:21.181204Z"
    },
    "papermill": {
     "duration": 0.047413,
     "end_time": "2022-01-16T00:47:45.017901",
     "exception": false,
     "start_time": "2022-01-16T00:47:44.970488",
     "status": "completed"
    },
    "tags": []
   },
   "outputs": [
    {
     "name": "stdout",
     "output_type": "stream",
     "text": [
      "OK!\n"
     ]
    }
   ],
   "source": [
    "validate_network(model, my_architecture_dict)"
   ]
  },
  {
   "cell_type": "markdown",
   "id": "6f3f67f0",
   "metadata": {
    "id": "cIAwvLE7RKmD",
    "papermill": {
     "duration": 0.039529,
     "end_time": "2022-01-16T00:47:45.097026",
     "exception": false,
     "start_time": "2022-01-16T00:47:45.057497",
     "status": "completed"
    },
    "tags": []
   },
   "source": [
    "1d) Plot the train and validation loss curves for the entire training process\n",
    "*   Validate the model after each epoch\n",
    "*   Plot both training and validation loss curves\n",
    "*   Write a small description discussing about the curves. What is the behaviour of the model?"
   ]
  },
  {
   "cell_type": "markdown",
   "id": "bf9f783f",
   "metadata": {
    "papermill": {
     "duration": 0.039197,
     "end_time": "2022-01-16T00:47:45.175949",
     "exception": false,
     "start_time": "2022-01-16T00:47:45.136752",
     "status": "completed"
    },
    "tags": []
   },
   "source": [
    "We first train on **ConvNet** for 10 epochs and assess the training and validation losses. "
   ]
  },
  {
   "cell_type": "code",
   "execution_count": 14,
   "id": "4118645e",
   "metadata": {
    "execution": {
     "iopub.execute_input": "2022-01-16T00:47:45.265633Z",
     "iopub.status.busy": "2022-01-16T00:47:45.264835Z",
     "iopub.status.idle": "2022-01-16T01:07:59.141623Z",
     "shell.execute_reply": "2022-01-16T01:07:59.142110Z",
     "shell.execute_reply.started": "2022-01-16T00:39:23.130665Z"
    },
    "id": "-UITTFW0RKmE",
    "papermill": {
     "duration": 1213.927029,
     "end_time": "2022-01-16T01:07:59.142272",
     "exception": false,
     "start_time": "2022-01-16T00:47:45.215243",
     "status": "completed"
    },
    "tags": []
   },
   "outputs": [
    {
     "name": "stdout",
     "output_type": "stream",
     "text": [
      "Epoch: 1 \tTraining Loss: 2.3038\n",
      "Epoch: 1 \tValidation Loss: 2.3031\n",
      "Epoch: 2 \tTraining Loss: 2.3036\n",
      "Epoch: 2 \tValidation Loss: 2.3035\n",
      "Epoch: 3 \tTraining Loss: 2.3036\n",
      "Epoch: 3 \tValidation Loss: 2.3030\n",
      "Epoch: 4 \tTraining Loss: 2.3034\n",
      "Epoch: 4 \tValidation Loss: 2.3033\n",
      "Epoch: 5 \tTraining Loss: 2.3035\n",
      "Epoch: 5 \tValidation Loss: 2.3030\n",
      "Epoch: 6 \tTraining Loss: 2.3034\n",
      "Epoch: 6 \tValidation Loss: 2.3030\n",
      "Epoch: 7 \tTraining Loss: 2.3033\n",
      "Epoch: 7 \tValidation Loss: 2.3031\n",
      "Epoch: 8 \tTraining Loss: 2.3033\n",
      "Epoch: 8 \tValidation Loss: 2.3030\n",
      "Epoch: 9 \tTraining Loss: 2.3033\n",
      "Epoch: 9 \tValidation Loss: 2.3033\n",
      "Epoch: 10 \tTraining Loss: 2.3033\n",
      "Epoch: 10 \tValidation Loss: 2.3029\n",
      "Finished Training\n"
     ]
    }
   ],
   "source": [
    "## Train the model and validate it after each epoch.\n",
    "## Provide the train-val loss graph.\n",
    "train_losslist = []\n",
    "train_accuracylist = []\n",
    "valid_losslist = []\n",
    "valid_accuracylist = []\n",
    "# *****START CODE\n",
    "for i in range(epochs):  # loop over  the dataset multiple times\n",
    "\n",
    "    train_loss = 0.0\n",
    "    valid_loss = 0.0\n",
    "    \n",
    "    for inputs, labels in train_dataloader:\n",
    "        inputs = inputs.to(device)\n",
    "        labels = labels.to(device)\n",
    "        \n",
    "        # zero the parameter gradi ents\n",
    "        optimizer.zero_grad()\n",
    "\n",
    "        # forward + backward + optimize\n",
    "        output = model(inputs)\n",
    "        #Train loss\n",
    "        loss = criterion(output, labels)\n",
    "        # train_loss.append(loss.item())\n",
    "        loss.backward()\n",
    "        optimizer.step()\n",
    "        #Update training loss \n",
    "        train_loss += loss.item()\n",
    "\n",
    "        #Model Validation\n",
    "    else:\n",
    "        model.eval() #Put model in validation mode \n",
    "        with torch.no_grad(): #Gradient tape is cancelled for validation\n",
    "            for val_inputs, val_labels in val_dataloader:\n",
    "                val_inputs = val_inputs.to(device)\n",
    "                val_labels = val_labels.to(device)\n",
    "                val_output = model(val_inputs)\n",
    "                val_loss = criterion(val_output,val_labels)\n",
    "                valid_loss += val_loss.item()\n",
    "        \n",
    "\n",
    "#         Calculate losses \n",
    "        train_loss = train_loss/len(train_dataloader)\n",
    "        valid_loss = valid_loss/len(val_dataloader)\n",
    "\n",
    "        train_losslist.append(train_loss)\n",
    "        valid_losslist.append(valid_loss)\n",
    "\n",
    "#         Print epoch training\n",
    "        print('Epoch: {} \\tTraining Loss: {:.4f}'.format(\n",
    "        i+1, train_loss))\n",
    "        print('Epoch: {} \\tValidation Loss: {:.4f}'.format(\n",
    "        i+1, valid_loss))\n",
    "\n",
    "print('Finished Training')\n",
    "\n",
    "# *****END CODE"
   ]
  },
  {
   "cell_type": "code",
   "execution_count": 15,
   "id": "6e76e1cb",
   "metadata": {
    "execution": {
     "iopub.execute_input": "2022-01-16T01:07:59.233241Z",
     "iopub.status.busy": "2022-01-16T01:07:59.232464Z",
     "iopub.status.idle": "2022-01-16T01:07:59.235257Z",
     "shell.execute_reply": "2022-01-16T01:07:59.235684Z",
     "shell.execute_reply.started": "2022-01-16T00:43:25.853743Z"
    },
    "papermill": {
     "duration": 0.05099,
     "end_time": "2022-01-16T01:07:59.235814",
     "exception": false,
     "start_time": "2022-01-16T01:07:59.184824",
     "status": "completed"
    },
    "tags": []
   },
   "outputs": [
    {
     "data": {
      "text/plain": [
       "[2.3038407355880737,\n",
       " 2.303601491851807,\n",
       " 2.30355367975235,\n",
       " 2.303422336292267,\n",
       " 2.303489441165924,\n",
       " 2.303441138305664,\n",
       " 2.3033390181922915,\n",
       " 2.3033496164894105,\n",
       " 2.3033122843933107,\n",
       " 2.303292847671509]"
      ]
     },
     "execution_count": 15,
     "metadata": {},
     "output_type": "execute_result"
    }
   ],
   "source": [
    "train_losslist"
   ]
  },
  {
   "cell_type": "markdown",
   "id": "481ec6ac",
   "metadata": {
    "papermill": {
     "duration": 0.042679,
     "end_time": "2022-01-16T01:07:59.320874",
     "exception": false,
     "start_time": "2022-01-16T01:07:59.278195",
     "status": "completed"
    },
    "tags": []
   },
   "source": [
    "Now we train **LeNet** for sanity check to ensure that our original **ConvNet** is performing worse than SOTA benchmarks."
   ]
  },
  {
   "cell_type": "code",
   "execution_count": 16,
   "id": "edc01c67",
   "metadata": {
    "execution": {
     "iopub.execute_input": "2022-01-16T01:07:59.411428Z",
     "iopub.status.busy": "2022-01-16T01:07:59.410602Z",
     "iopub.status.idle": "2022-01-16T01:07:59.413102Z",
     "shell.execute_reply": "2022-01-16T01:07:59.412634Z",
     "shell.execute_reply.started": "2022-01-05T11:54:02.616532Z"
    },
    "papermill": {
     "duration": 0.049987,
     "end_time": "2022-01-16T01:07:59.413218",
     "exception": false,
     "start_time": "2022-01-16T01:07:59.363231",
     "status": "completed"
    },
    "tags": []
   },
   "outputs": [],
   "source": [
    "# train_losslist_lenet = []\n",
    "# valid_losslist_lenet = []\n",
    "# # *****START CODE\n",
    "# for i in range(epochs):  # loop over  the dataset multiple times\n",
    "\n",
    "#     train_loss_lenet = 0.0\n",
    "#     valid_loss_lenet = 0.0\n",
    "    \n",
    "#     for inputs, labels in train_dataloader:\n",
    "#         inputs = inputs.to(device)\n",
    "#         labels = labels.to(device)\n",
    "        \n",
    "#         # zero the parameter gradi ents\n",
    "#         optimizer2.zero_grad()\n",
    "\n",
    "#         # forward + backward + optimize\n",
    "#         output = model2(inputs)\n",
    "#         #Train loss\n",
    "#         loss = criterion(output, labels)\n",
    "#         # train_loss.append(loss.item())\n",
    "#         loss.backward()\n",
    "#         optimizer2.step()\n",
    "#         #Update training loss \n",
    "#         train_loss_lenet += loss.item()\n",
    "\n",
    "#         #Model Validation\n",
    "#     else:\n",
    "#         with torch.no_grad(): #Gradient tape is cancelled for validation\n",
    "#             for val_inputs, val_labels in val_dataloader:\n",
    "#                 val_inputs = val_inputs.to(device)\n",
    "#                 val_labels = val_labels.to(device)\n",
    "#                 val_output = model2(val_inputs)\n",
    "#                 val_loss = criterion(val_output,val_labels)\n",
    "#                 valid_loss_lenet += val_loss.item()\n",
    "        \n",
    "\n",
    "# #         Calculate losses \n",
    "#         train_loss_lenet = train_loss_lenet/len(train_dataloader)\n",
    "#         valid_loss_lenet = valid_loss_lenet/len(val_dataloader)\n",
    "\n",
    "#         train_losslist_lenet.append(train_loss_lenet)\n",
    "#         valid_losslist_lenet.append(valid_loss_lenet)\n",
    "\n",
    "# #         Print epoch training\n",
    "#     print('Epoch: {} \\tTraining Loss: {:.4f}'.format(\n",
    "#     i+1, train_loss_lenet))\n",
    "#     print('Epoch: {} \\tValidation Loss: {:.4f}'.format(\n",
    "#     i+1, valid_loss_lenet))\n",
    "\n",
    "\n",
    "#         # with torch.no_grad():\n",
    "#         #     for i, val_data in enumerate(val_dataloader,0):\n",
    "#         #         inputs_val = val_data[0].to(device)\n",
    "#         #         labels_val = val_data[1].to(device)\n",
    "\n",
    "#         #         model.eval()\n",
    "\n",
    "#         #         output_hat = model(inputs_val)\n",
    "#         #         val_loss = criterion(output_hat,labels_val)\n",
    "#         #         valid_loss.append(val_loss)\n",
    "\n",
    "\n",
    "# print('Finished Training')\n"
   ]
  },
  {
   "cell_type": "code",
   "execution_count": 17,
   "id": "84f8a880",
   "metadata": {
    "execution": {
     "iopub.execute_input": "2022-01-16T01:07:59.511847Z",
     "iopub.status.busy": "2022-01-16T01:07:59.511249Z",
     "iopub.status.idle": "2022-01-16T01:07:59.513995Z",
     "shell.execute_reply": "2022-01-16T01:07:59.514412Z",
     "shell.execute_reply.started": "2022-01-04T13:36:34.145226Z"
    },
    "papermill": {
     "duration": 0.059006,
     "end_time": "2022-01-16T01:07:59.514537",
     "exception": false,
     "start_time": "2022-01-16T01:07:59.455531",
     "status": "completed"
    },
    "tags": []
   },
   "outputs": [
    {
     "data": {
      "text/plain": [
       "50000"
      ]
     },
     "execution_count": 17,
     "metadata": {},
     "output_type": "execute_result"
    }
   ],
   "source": [
    "len(train_dataloader.dataset)"
   ]
  },
  {
   "cell_type": "code",
   "execution_count": 18,
   "id": "be1d08ec",
   "metadata": {
    "execution": {
     "iopub.execute_input": "2022-01-16T01:07:59.623994Z",
     "iopub.status.busy": "2022-01-16T01:07:59.623170Z",
     "iopub.status.idle": "2022-01-16T01:07:59.860085Z",
     "shell.execute_reply": "2022-01-16T01:07:59.859615Z",
     "shell.execute_reply.started": "2022-01-15T20:10:02.186533Z"
    },
    "papermill": {
     "duration": 0.302574,
     "end_time": "2022-01-16T01:07:59.860213",
     "exception": false,
     "start_time": "2022-01-16T01:07:59.557639",
     "status": "completed"
    },
    "tags": []
   },
   "outputs": [
    {
     "data": {
      "image/png": "[encoded data removed]",
      "text/plain": [
       "<Figure size 432x288 with 1 Axes>"
      ]
     },
     "metadata": {
      "needs_background": "light"
     },
     "output_type": "display_data"
    }
   ],
   "source": [
    "#Let's plot the train loss and validation loss for both the models \n",
    "# fig, ax = plt.subplots(1, 2, figsize=(10,10))\n",
    "\n",
    "plt.plot(train_losslist)\n",
    "plt.plot(valid_losslist)\n",
    "plt.legend(['Train Loss','Validation Loss'])\n",
    "plt.title(\"Validation and Training Loss for ConvNet\")\n",
    "plt.tight_layout()"
   ]
  },
  {
   "cell_type": "code",
   "execution_count": 19,
   "id": "21146661",
   "metadata": {
    "execution": {
     "iopub.execute_input": "2022-01-16T01:07:59.953291Z",
     "iopub.status.busy": "2022-01-16T01:07:59.952473Z",
     "iopub.status.idle": "2022-01-16T01:07:59.954981Z",
     "shell.execute_reply": "2022-01-16T01:07:59.954556Z",
     "shell.execute_reply.started": "2022-01-05T10:51:07.457909Z"
    },
    "papermill": {
     "duration": 0.050022,
     "end_time": "2022-01-16T01:07:59.955099",
     "exception": false,
     "start_time": "2022-01-16T01:07:59.905077",
     "status": "completed"
    },
    "tags": []
   },
   "outputs": [],
   "source": [
    "# plt.plot(train_losslist_lenet)\n",
    "# plt.plot(valid_losslist_lenet)\n",
    "# plt.legend(['Train Loss','Validation Loss'])\n",
    "# plt.title(\"Validation and Training Loss for LeNet\")\n",
    "# plt.tight_layout()"
   ]
  },
  {
   "cell_type": "markdown",
   "id": "1090fd49",
   "metadata": {
    "id": "1Kp8nRiGRKmF",
    "papermill": {
     "duration": 0.04435,
     "end_time": "2022-01-16T01:08:00.043396",
     "exception": false,
     "start_time": "2022-01-16T01:07:59.999046",
     "status": "completed"
    },
    "tags": []
   },
   "source": [
    "1e) Get an intermediate layer from your convolutional neural network and visualize what patterns the network has learned\n",
    "*   Complete the following code that visualizes the patterns of the network\n",
    "*   Write a small description commenting on the visualized maps. What do you observe in the different visualizations of the feature maps?"
   ]
  },
  {
   "cell_type": "code",
   "execution_count": 20,
   "id": "a4c19ffc",
   "metadata": {
    "execution": {
     "iopub.execute_input": "2022-01-16T01:08:00.136443Z",
     "iopub.status.busy": "2022-01-16T01:08:00.135833Z",
     "iopub.status.idle": "2022-01-16T01:08:00.138435Z",
     "shell.execute_reply": "2022-01-16T01:08:00.138845Z",
     "shell.execute_reply.started": "2022-01-15T20:10:16.874170Z"
    },
    "id": "YOufTTZpCPCY",
    "papermill": {
     "duration": 0.051121,
     "end_time": "2022-01-16T01:08:00.138988",
     "exception": false,
     "start_time": "2022-01-16T01:08:00.087867",
     "status": "completed"
    },
    "tags": []
   },
   "outputs": [
    {
     "name": "stdout",
     "output_type": "stream",
     "text": [
      "My intermediate layer to visualize is: {'type': 'ReLU'}\n"
     ]
    }
   ],
   "source": [
    "# The intermediate layer you should visualize:\n",
    "print('My intermediate layer to visualize is: %s'%(my_architecture_dict['Layer_012']))"
   ]
  },
  {
   "cell_type": "code",
   "execution_count": 21,
   "id": "fc008634",
   "metadata": {
    "execution": {
     "iopub.execute_input": "2022-01-16T01:08:00.242192Z",
     "iopub.status.busy": "2022-01-16T01:08:00.241464Z",
     "iopub.status.idle": "2022-01-16T01:08:08.869754Z",
     "shell.execute_reply": "2022-01-16T01:08:08.870212Z",
     "shell.execute_reply.started": "2022-01-16T00:43:32.380771Z"
    },
    "id": "xk4FadJSRKmG",
    "papermill": {
     "duration": 8.687328,
     "end_time": "2022-01-16T01:08:08.870378",
     "exception": false,
     "start_time": "2022-01-16T01:08:00.183050",
     "status": "completed"
    },
    "tags": []
   },
   "outputs": [
    {
     "name": "stdout",
     "output_type": "stream",
     "text": [
      "Filter 0. Epoch 100. Loss = 0.0000\n",
      "Filter 1. Epoch 100. Loss = 0.0000\n",
      "Filter 2. Epoch 100. Loss = 0.0000\n",
      "Filter 3. Epoch 100. Loss = 0.0000\n"
     ]
    },
    {
     "data": {
      "image/png": "[encoded data removed]",
      "text/plain": [
       "<Figure size 720x360 with 1 Axes>"
      ]
     },
     "metadata": {
      "needs_background": "light"
     },
     "output_type": "display_data"
    }
   ],
   "source": [
    "import sys\n",
    "from skimage import io\n",
    "import torchvision.utils as vutils\n",
    "\n",
    "##function for printing the loss during optimization\n",
    "def write_flush(text, stream=sys.stdout):\n",
    "    stream.write(text)\n",
    "    stream.flush()\n",
    "    return\n",
    "\n",
    "## Number of feature maps in the intermediate layer that you have chosen. \n",
    "# *****START CODE\n",
    "n_conv = 4\n",
    "# *****END CODE\n",
    "\n",
    "## Size of visualised filter.\n",
    "img_size = 32\n",
    "\n",
    "##load your optimal model\n",
    "# *****START CODE\n",
    "model = ConvNet()\n",
    "# model.load_state_dict(torch.load('drive/..../model.pt')) \n",
    "# *****END CODE\n",
    "\n",
    "## Create a submodel, until the intermediate layer of your choice.\n",
    "## Hint: Use model.#name# to create the succession of layers, where #name#\n",
    "## stands for the layer names that you defined in the initialization function \n",
    "## of your model.\n",
    "# *****START CODE\n",
    "submodel = nn.Sequential(model.conv1,\n",
    "        model.activation1,\n",
    "        model.conv2,\n",
    "        model.activation2,\n",
    "        model.pooling1,\n",
    "        model.conv3,\n",
    "        model.activation3,\n",
    "        model.conv4,\n",
    "        model.activation4,\n",
    "        model.pooling2,\n",
    "        model.conv5,\n",
    "        model.activation5,\n",
    "        \n",
    ")\n",
    "# *****END CODE\n",
    "\n",
    "\n",
    "relu_list = []\n",
    "activation = {}\n",
    "def getActivation(name):\n",
    "    #Hook signature\n",
    "    def hook(model, input, output):\n",
    "        activation[name] = output.detach()\n",
    "    return hook\n",
    "\n",
    "## Put submodel in eval mode.\n",
    "submodel.eval()\n",
    "submodel[11].register_forward_hook(getActivation('relu'))\n",
    "\n",
    "## Tensor to visualised filters. \n",
    "img_stack = torch.zeros((n_conv, 3, img_size, img_size))\n",
    "\n",
    "## Number of epochs to run for every filter. \n",
    "# *****START CODE\n",
    "n_epochs_per_filt = 100\n",
    "# *****END CODE\n",
    "\n",
    "criterion = nn.MSELoss()\n",
    "\n",
    "# Visualise every convolution. \n",
    "for c in range(n_conv):\n",
    "    ## Initialise with random image. \n",
    "    img = torch.rand(1, 3, img_size, img_size).float()\n",
    "\n",
    "    ## Turn on gradient calculation on the image\n",
    "    # *****START CODE\n",
    "    torch.enable_grad()\n",
    "    # *****END CODE\n",
    " \n",
    "    ## Define optimizer.\n",
    "    # *****START CODE\n",
    "    optimizer = torch.optim.Adam(submodel.parameters(),lr=0.001)\n",
    "    # *****END CODE\n",
    "    \n",
    "    for f in range(n_epochs_per_filt):\n",
    "        optimizer.zero_grad()\n",
    "\n",
    "        ## Feedforward propagation\n",
    "        ## Hint: In order to find the loss, compupte the negative of the activation of the hidden layer. \n",
    "        ## The objective is to produce an input image which maximizes the activation \n",
    "        ## of neurons in a particular hidden layer. \n",
    "        # *****START CODE\n",
    "        x = submodel(img)\n",
    "        h1 = activation['relu']\n",
    "        loss = criterion(x,-h1)\n",
    "        loss.backward()\n",
    "        optimizer.step()\n",
    "        \n",
    "        \n",
    "        # *****END CODE\n",
    "        write_flush('\\rFilter %d. Epoch %d. Loss = %.4f'%(c, f+1, loss.item()))\n",
    "\n",
    "    write_flush('\\n')\n",
    "    img_stack[c, :, :, :] = img[0].detach()\n",
    "    h1.detach()\n",
    "\n",
    "## Make grid out of visualized filters. \n",
    "##Here you may have to adjust the properties of vutils.make_grid, depending on your needs. \n",
    "##For example, you may need to change the number of rows.\n",
    "G = vutils.make_grid(img_stack, nrow=8, normalize=True, padding=1).permute(1,2,0).numpy()\n",
    "plt.figure(figsize=(10,5))\n",
    "plt.imshow(G)\n",
    "plt.axis('equal')\n",
    "plt.axis('off')\n",
    "plt.show()"
   ]
  },
  {
   "cell_type": "markdown",
   "id": "2e7eec7b",
   "metadata": {
    "papermill": {
     "duration": 0.151102,
     "end_time": "2022-01-16T01:08:09.221495",
     "exception": false,
     "start_time": "2022-01-16T01:08:09.070393",
     "status": "completed"
    },
    "tags": []
   },
   "source": [
    "Output: Looking at the output, we can see that the intermediate layers of the CNN are learning pixelated patterns about the network. At first sight, it might seem like nothing, but this is happening due to the fact that our network is indeed too deep and the network is perhaps unable to determine the various features in the image."
   ]
  },
  {
   "cell_type": "markdown",
   "id": "ea178062",
   "metadata": {
    "id": "oINhR7y4CPCZ",
    "papermill": {
     "duration": 0.154136,
     "end_time": "2022-01-16T01:08:09.523958",
     "exception": false,
     "start_time": "2022-01-16T01:08:09.369822",
     "status": "completed"
    },
    "tags": []
   },
   "source": [
    "1f) Use GradCAM algorithm to visualize the saliency maps of your trained model at the same intermediate layer\n",
    "*   Install pytorch grad cam package if needed (https://github.com/jacobgil/pytorch-grad-cam)\n",
    "*   Complete the following code that visualizes GradCAM heatmaps on an input image from your model\n",
    "*   Try on several input images / classes. \n",
    "*   Write a small description commenting on the visualized heatmaps. "
   ]
  },
  {
   "cell_type": "code",
   "execution_count": 22,
   "id": "5090655f",
   "metadata": {
    "execution": {
     "iopub.execute_input": "2022-01-16T01:08:09.820134Z",
     "iopub.status.busy": "2022-01-16T01:08:09.819339Z",
     "iopub.status.idle": "2022-01-16T01:08:28.676865Z",
     "shell.execute_reply": "2022-01-16T01:08:28.677362Z",
     "shell.execute_reply.started": "2022-01-16T00:43:50.573365Z"
    },
    "id": "p9MvHDhkCPCb",
    "papermill": {
     "duration": 19.008057,
     "end_time": "2022-01-16T01:08:28.677527",
     "exception": false,
     "start_time": "2022-01-16T01:08:09.669470",
     "status": "completed"
    },
    "tags": []
   },
   "outputs": [
    {
     "name": "stdout",
     "output_type": "stream",
     "text": [
      "Collecting grad-cam\r\n",
      "  Downloading grad-cam-1.3.7.tar.gz (4.5 MB)\r\n",
      "     |████████████████████████████████| 4.5 MB 5.1 MB/s            \r\n",
      "\u001b[?25h  Installing build dependencies ... \u001b[?25l-\b \b\\\b \b|\b \b/\b \bdone\r\n",
      "\u001b[?25h  Getting requirements to build wheel ... \u001b[?25l-\b \bdone\r\n",
      "\u001b[?25h  Preparing metadata (pyproject.toml) ... \u001b[?25l-\b \bdone\r\n",
      "\u001b[?25hRequirement already satisfied: torch>=1.7.1 in /opt/conda/lib/python3.7/site-packages (from grad-cam) (1.9.1)\r\n",
      "Requirement already satisfied: numpy in /opt/conda/lib/python3.7/site-packages (from grad-cam) (1.19.5)\r\n",
      "Collecting ttach\r\n",
      "  Downloading ttach-0.0.3-py3-none-any.whl (9.8 kB)\r\n",
      "Requirement already satisfied: tqdm in /opt/conda/lib/python3.7/site-packages (from grad-cam) (4.62.3)\r\n",
      "Requirement already satisfied: opencv-python in /opt/conda/lib/python3.7/site-packages (from grad-cam) (4.5.4.60)\r\n",
      "Requirement already satisfied: torchvision>=0.8.2 in /opt/conda/lib/python3.7/site-packages (from grad-cam) (0.10.1)\r\n",
      "Requirement already satisfied: Pillow in /opt/conda/lib/python3.7/site-packages (from grad-cam) (8.2.0)\r\n",
      "Requirement already satisfied: typing-extensions in /opt/conda/lib/python3.7/site-packages (from torch>=1.7.1->grad-cam) (3.10.0.2)\r\n",
      "Building wheels for collected packages: grad-cam\r\n",
      "  Building wheel for grad-cam (pyproject.toml) ... \u001b[?25l-\b \bdone\r\n",
      "\u001b[?25h  Created wheel for grad-cam: filename=grad_cam-1.3.7-py3-none-any.whl size=25953 sha256=ec0c6735714e38094515961cdb7854318fada6b2feb7f56db9a38cf5f8a9b685\r\n",
      "  Stored in directory: /root/.cache/pip/wheels/30/ab/9c/53c523785edffdc6c61755cf82e0dac3342d0d36190c187894\r\n",
      "Successfully built grad-cam\r\n",
      "Installing collected packages: ttach, grad-cam\r\n",
      "Successfully installed grad-cam-1.3.7 ttach-0.0.3\r\n",
      "\u001b[33mWARNING: Running pip as the 'root' user can result in broken permissions and conflicting behaviour with the system package manager. It is recommended to use a virtual environment instead: https://pip.pypa.io/warnings/venv\u001b[0m\r\n"
     ]
    }
   ],
   "source": [
    "# Install pytorch grad cam package\n",
    "! pip install grad-cam"
   ]
  },
  {
   "cell_type": "code",
   "execution_count": 23,
   "id": "e5232859",
   "metadata": {
    "execution": {
     "iopub.execute_input": "2022-01-16T01:08:28.998289Z",
     "iopub.status.busy": "2022-01-16T01:08:28.995088Z",
     "iopub.status.idle": "2022-01-16T01:08:29.891744Z",
     "shell.execute_reply": "2022-01-16T01:08:29.891320Z",
     "shell.execute_reply.started": "2022-01-16T00:46:56.262619Z"
    },
    "id": "VNIwIMyDCPCb",
    "papermill": {
     "duration": 1.059286,
     "end_time": "2022-01-16T01:08:29.891867",
     "exception": false,
     "start_time": "2022-01-16T01:08:28.832581",
     "status": "completed"
    },
    "tags": []
   },
   "outputs": [
    {
     "data": {
      "text/plain": [
       "<matplotlib.image.AxesImage at 0x7f9002007f90>"
      ]
     },
     "execution_count": 23,
     "metadata": {},
     "output_type": "execute_result"
    },
    {
     "data": {
      "image/png": "[encoded data removed]",
      "text/plain": [
       "<Figure size 432x288 with 1 Axes>"
      ]
     },
     "metadata": {
      "needs_background": "light"
     },
     "output_type": "display_data"
    }
   ],
   "source": [
    "from pytorch_grad_cam import GradCAM\n",
    "from pytorch_grad_cam.utils.image import show_cam_on_image\n",
    "import numpy as np \n",
    "use_cuda = True\n",
    "\n",
    "# *****START CODE\n",
    "model = ConvNet()\n",
    "# model.load_state_dict(torch.load('drive/..../model.pt'))\n",
    "\n",
    "inputs, targets = iter(train_dataloader).next()\n",
    "\n",
    "# Get your intermediate layer\n",
    "target_layers = [model.conv8]\n",
    "\n",
    "# convert_tensor = transforms.ToTensor()\n",
    "rgb_img = np.transpose(inputs[1],(2,1,0)).numpy().reshape((32,32,3))\n",
    "input_tensor = torch.unsqueeze(inputs[1],0) # Create an input tensor from your image for your model..\n",
    "# Note: input_tensor can be a batch tensor with several images!\n",
    "target_category = targets[1]\n",
    "# *****END CODE\n",
    "\n",
    "# Construct the CAM object once, and then re-use it on many images:\n",
    "cam = GradCAM(model=model, target_layers=target_layers, use_cuda=use_cuda)\n",
    "\n",
    "# You can also pass aug_smooth=True and eigen_smooth=True, to apply smoothing.\n",
    "grayscale_cam = cam(input_tensor=input_tensor, targets=None,\n",
    "                   aug_smooth=True,\n",
    "                   eigen_smooth=True)\n",
    "\n",
    "# In this example grayscale_cam has only one image in the batch:\n",
    "grayscale_cam = grayscale_cam[0, :]\n",
    "visualization = show_cam_on_image(rgb_img, grayscale_cam, use_rgb=True)\n",
    "\n",
    "# Plot figure\n",
    "plt.figure()\n",
    "plt.imshow(visualization)"
   ]
  },
  {
   "cell_type": "markdown",
   "id": "83790299",
   "metadata": {
    "id": "o3QK7dhJRKmH",
    "papermill": {
     "duration": 0.156278,
     "end_time": "2022-01-16T01:08:30.202261",
     "exception": false,
     "start_time": "2022-01-16T01:08:30.045983",
     "status": "completed"
    },
    "tags": []
   },
   "source": [
    "### Question 2 - Train on geometrical shapes"
   ]
  },
  {
   "cell_type": "markdown",
   "id": "5c5ab6d3",
   "metadata": {
    "id": "-yudhcXrRKmH",
    "papermill": {
     "duration": 0.15325,
     "end_time": "2022-01-16T01:08:30.509378",
     "exception": false,
     "start_time": "2022-01-16T01:08:30.356128",
     "status": "completed"
    },
    "tags": []
   },
   "source": [
    "Function 'generate_a_triangle' produces images depicting random triangles along with the (x,y) coordinates of the vertices. Create a convolutional neural network that receives as input the triangle image and predicts the corresponding (x,y) coordinates of the triangle's vertices. \n",
    "*  Read and understand the following code"
   ]
  },
  {
   "cell_type": "code",
   "execution_count": 24,
   "id": "9aaa5ed0",
   "metadata": {
    "execution": {
     "iopub.execute_input": "2022-01-16T01:08:30.844417Z",
     "iopub.status.busy": "2022-01-16T01:08:30.843290Z",
     "iopub.status.idle": "2022-01-16T01:08:31.032940Z",
     "shell.execute_reply": "2022-01-16T01:08:31.033677Z",
     "shell.execute_reply.started": "2022-01-15T20:21:38.006064Z"
    },
    "id": "aptobJOZbRZd",
    "outputId": "422e33ef-c4bf-4aa7-d52b-0be56438247f",
    "papermill": {
     "duration": 0.370339,
     "end_time": "2022-01-16T01:08:31.033855",
     "exception": false,
     "start_time": "2022-01-16T01:08:30.663516",
     "status": "completed"
    },
    "tags": []
   },
   "outputs": [
    {
     "data": {
      "image/png": "[encoded data removed]",
      "text/plain": [
       "<Figure size 432x288 with 1 Axes>"
      ]
     },
     "metadata": {
      "needs_background": "light"
     },
     "output_type": "display_data"
    }
   ],
   "source": [
    "import matplotlib.pyplot as plt\n",
    "%matplotlib inline\n",
    "import numpy as np\n",
    "\n",
    "# On some implementations of matplotlib, you may need to change this value\n",
    "IMAGE_SIZE = 72\n",
    "\n",
    "def generate_a_drawing(figsize, U, V):\n",
    "    fig = plt.figure(figsize=(figsize,figsize))\n",
    "    ax = plt.subplot(111)\n",
    "    plt.axis('Off')\n",
    "    ax.set_xlim(0,figsize)\n",
    "    ax.set_ylim(0,figsize)\n",
    "    ax.fill(U, V, \"k\")\n",
    "    fig.canvas.draw()\n",
    "    imdata = np.frombuffer(fig.canvas.tostring_rgb(), dtype=np.uint8)[::3].astype(np.float32)\n",
    "    imdata = imdata + np.random.random(imdata.size)\n",
    "    plt.close(fig)\n",
    "    return imdata\n",
    "\n",
    "def generate_a_triangle():\n",
    "    figsize = 1.0\n",
    "    U = np.random.random(3)\n",
    "    V = np.random.random(3)\n",
    "    imdata = generate_a_drawing(figsize, U, V)\n",
    "    return [imdata, [U[0], V[0], U[1], V[1], U[2], V[2]]]\n",
    "\n",
    "[im, v] = generate_a_triangle()\n",
    "plt.imshow(im.reshape(IMAGE_SIZE,IMAGE_SIZE), cmap='gray')\n",
    "\n",
    "def generate_dataset_regression(nb_samples):\n",
    "    # Getting im_size:\n",
    "    im_size = generate_a_triangle()[0].shape[0]\n",
    "    X = np.zeros([nb_samples,im_size])\n",
    "    Y = np.zeros([nb_samples, 6])\n",
    "    print('Creating data:')\n",
    "    for i in range(nb_samples):\n",
    "        if i % 10 == 0:\n",
    "            print(i)\n",
    "        [X[i], Y[i]] = generate_a_triangle()\n",
    "    X = X / 255\n",
    "    return [X, Y]\n",
    "\n",
    "import matplotlib.patches as patches\n",
    "\n",
    "def visualize_prediction(x, y):\n",
    "    fig, ax = plt.subplots(figsize=(5, 5))\n",
    "    I = x.reshape((IMAGE_SIZE,IMAGE_SIZE))\n",
    "    ax.imshow(I, extent=[-0.15,1.15,-0.15,1.15],cmap='gray')\n",
    "    ax.set_xlim([0,1])\n",
    "    ax.set_ylim([0,1])\n",
    "\n",
    "    xy = y.reshape(3,2)\n",
    "    tri = patches.Polygon(xy, closed=True, fill = False, edgecolor = 'r', linewidth = 5, alpha = 0.5)\n",
    "    ax.add_patch(tri)\n",
    "\n",
    "    plt.show()\n",
    "\n",
    "def generate_test_set_regression():\n",
    "    np.random.seed(42)\n",
    "    [X_test, Y_test] = generate_dataset_regression(300)\n",
    "    return [X_test, Y_test]"
   ]
  },
  {
   "cell_type": "markdown",
   "id": "aa7e1f5d",
   "metadata": {
    "id": "clB8r3jMRKmI",
    "papermill": {
     "duration": 0.159263,
     "end_time": "2022-01-16T01:08:31.348632",
     "exception": false,
     "start_time": "2022-01-16T01:08:31.189369",
     "status": "completed"
    },
    "tags": []
   },
   "source": [
    "2a) Use function 'generate_dataset_regression' to create the dataset. Split the dataset to training and validation parts."
   ]
  },
  {
   "cell_type": "code",
   "execution_count": 25,
   "id": "da0c17fe",
   "metadata": {
    "collapsed": true,
    "execution": {
     "iopub.execute_input": "2022-01-16T01:08:31.673724Z",
     "iopub.status.busy": "2022-01-16T01:08:31.671969Z",
     "iopub.status.idle": "2022-01-16T01:12:01.963524Z",
     "shell.execute_reply": "2022-01-16T01:12:01.963947Z",
     "shell.execute_reply.started": "2022-01-15T20:21:40.432870Z"
    },
    "id": "6Y7mW83fRKmJ",
    "jupyter": {
     "outputs_hidden": true
    },
    "papermill": {
     "duration": 210.461229,
     "end_time": "2022-01-16T01:12:01.964139",
     "exception": false,
     "start_time": "2022-01-16T01:08:31.502910",
     "status": "completed"
    },
    "tags": []
   },
   "outputs": [
    {
     "name": "stdout",
     "output_type": "stream",
     "text": [
      "Creating data:\n",
      "0\n",
      "10\n",
      "20\n",
      "30\n",
      "40\n",
      "50\n",
      "60\n",
      "70\n",
      "80\n",
      "90\n",
      "100\n",
      "110\n",
      "120\n",
      "130\n",
      "140\n",
      "150\n",
      "160\n",
      "170\n",
      "180\n",
      "190\n",
      "200\n",
      "210\n",
      "220\n",
      "230\n",
      "240\n",
      "250\n",
      "260\n",
      "270\n",
      "280\n",
      "290\n",
      "300\n",
      "310\n",
      "320\n",
      "330\n",
      "340\n",
      "350\n",
      "360\n",
      "370\n",
      "380\n",
      "390\n",
      "400\n",
      "410\n",
      "420\n",
      "430\n",
      "440\n",
      "450\n",
      "460\n",
      "470\n",
      "480\n",
      "490\n",
      "500\n",
      "510\n",
      "520\n",
      "530\n",
      "540\n",
      "550\n",
      "560\n",
      "570\n",
      "580\n",
      "590\n",
      "600\n",
      "610\n",
      "620\n",
      "630\n",
      "640\n",
      "650\n",
      "660\n",
      "670\n",
      "680\n",
      "690\n",
      "700\n",
      "710\n",
      "720\n",
      "730\n",
      "740\n",
      "750\n",
      "760\n",
      "770\n",
      "780\n",
      "790\n",
      "800\n",
      "810\n",
      "820\n",
      "830\n",
      "840\n",
      "850\n",
      "860\n",
      "870\n",
      "880\n",
      "890\n",
      "900\n",
      "910\n",
      "920\n",
      "930\n",
      "940\n",
      "950\n",
      "960\n",
      "970\n",
      "980\n",
      "990\n",
      "1000\n",
      "1010\n",
      "1020\n",
      "1030\n",
      "1040\n",
      "1050\n",
      "1060\n",
      "1070\n",
      "1080\n",
      "1090\n",
      "1100\n",
      "1110\n",
      "1120\n",
      "1130\n",
      "1140\n",
      "1150\n",
      "1160\n",
      "1170\n",
      "1180\n",
      "1190\n",
      "1200\n",
      "1210\n",
      "1220\n",
      "1230\n",
      "1240\n",
      "1250\n",
      "1260\n",
      "1270\n",
      "1280\n",
      "1290\n",
      "1300\n",
      "1310\n",
      "1320\n",
      "1330\n",
      "1340\n",
      "1350\n",
      "1360\n",
      "1370\n",
      "1380\n",
      "1390\n",
      "1400\n",
      "1410\n",
      "1420\n",
      "1430\n",
      "1440\n",
      "1450\n",
      "1460\n",
      "1470\n",
      "1480\n",
      "1490\n",
      "1500\n",
      "1510\n",
      "1520\n",
      "1530\n",
      "1540\n",
      "1550\n",
      "1560\n",
      "1570\n",
      "1580\n",
      "1590\n",
      "1600\n",
      "1610\n",
      "1620\n",
      "1630\n",
      "1640\n",
      "1650\n",
      "1660\n",
      "1670\n",
      "1680\n",
      "1690\n",
      "1700\n",
      "1710\n",
      "1720\n",
      "1730\n",
      "1740\n",
      "1750\n",
      "1760\n",
      "1770\n",
      "1780\n",
      "1790\n",
      "1800\n",
      "1810\n",
      "1820\n",
      "1830\n",
      "1840\n",
      "1850\n",
      "1860\n",
      "1870\n",
      "1880\n",
      "1890\n",
      "1900\n",
      "1910\n",
      "1920\n",
      "1930\n",
      "1940\n",
      "1950\n",
      "1960\n",
      "1970\n",
      "1980\n",
      "1990\n",
      "2000\n",
      "2010\n",
      "2020\n",
      "2030\n",
      "2040\n",
      "2050\n",
      "2060\n",
      "2070\n",
      "2080\n",
      "2090\n",
      "2100\n",
      "2110\n",
      "2120\n",
      "2130\n",
      "2140\n",
      "2150\n",
      "2160\n",
      "2170\n",
      "2180\n",
      "2190\n",
      "2200\n",
      "2210\n",
      "2220\n",
      "2230\n",
      "2240\n",
      "2250\n",
      "2260\n",
      "2270\n",
      "2280\n",
      "2290\n",
      "2300\n",
      "2310\n",
      "2320\n",
      "2330\n",
      "2340\n",
      "2350\n",
      "2360\n",
      "2370\n",
      "2380\n",
      "2390\n",
      "2400\n",
      "2410\n",
      "2420\n",
      "2430\n",
      "2440\n",
      "2450\n",
      "2460\n",
      "2470\n",
      "2480\n",
      "2490\n",
      "2500\n",
      "2510\n",
      "2520\n",
      "2530\n",
      "2540\n",
      "2550\n",
      "2560\n",
      "2570\n",
      "2580\n",
      "2590\n",
      "2600\n",
      "2610\n",
      "2620\n",
      "2630\n",
      "2640\n",
      "2650\n",
      "2660\n",
      "2670\n",
      "2680\n",
      "2690\n",
      "2700\n",
      "2710\n",
      "2720\n",
      "2730\n",
      "2740\n",
      "2750\n",
      "2760\n",
      "2770\n",
      "2780\n",
      "2790\n",
      "2800\n",
      "2810\n",
      "2820\n",
      "2830\n",
      "2840\n",
      "2850\n",
      "2860\n",
      "2870\n",
      "2880\n",
      "2890\n",
      "2900\n",
      "2910\n",
      "2920\n",
      "2930\n",
      "2940\n",
      "2950\n",
      "2960\n",
      "2970\n",
      "2980\n",
      "2990\n",
      "3000\n",
      "3010\n",
      "3020\n",
      "3030\n",
      "3040\n",
      "3050\n",
      "3060\n",
      "3070\n",
      "3080\n",
      "3090\n",
      "3100\n",
      "3110\n",
      "3120\n",
      "3130\n",
      "3140\n",
      "3150\n",
      "3160\n",
      "3170\n",
      "3180\n",
      "3190\n",
      "3200\n",
      "3210\n",
      "3220\n",
      "3230\n",
      "3240\n",
      "3250\n",
      "3260\n",
      "3270\n",
      "3280\n",
      "3290\n",
      "3300\n",
      "3310\n",
      "3320\n",
      "3330\n",
      "3340\n",
      "3350\n",
      "3360\n",
      "3370\n",
      "3380\n",
      "3390\n",
      "3400\n",
      "3410\n",
      "3420\n",
      "3430\n",
      "3440\n",
      "3450\n",
      "3460\n",
      "3470\n",
      "3480\n",
      "3490\n",
      "3500\n",
      "3510\n",
      "3520\n",
      "3530\n",
      "3540\n",
      "3550\n",
      "3560\n",
      "3570\n",
      "3580\n",
      "3590\n",
      "3600\n",
      "3610\n",
      "3620\n",
      "3630\n",
      "3640\n",
      "3650\n",
      "3660\n",
      "3670\n",
      "3680\n",
      "3690\n",
      "3700\n",
      "3710\n",
      "3720\n",
      "3730\n",
      "3740\n",
      "3750\n",
      "3760\n",
      "3770\n",
      "3780\n",
      "3790\n",
      "3800\n",
      "3810\n",
      "3820\n",
      "3830\n",
      "3840\n",
      "3850\n",
      "3860\n",
      "3870\n",
      "3880\n",
      "3890\n",
      "3900\n",
      "3910\n",
      "3920\n",
      "3930\n",
      "3940\n",
      "3950\n",
      "3960\n",
      "3970\n",
      "3980\n",
      "3990\n",
      "4000\n",
      "4010\n",
      "4020\n",
      "4030\n",
      "4040\n",
      "4050\n",
      "4060\n",
      "4070\n",
      "4080\n",
      "4090\n",
      "4100\n",
      "4110\n",
      "4120\n",
      "4130\n",
      "4140\n",
      "4150\n",
      "4160\n",
      "4170\n",
      "4180\n",
      "4190\n",
      "4200\n",
      "4210\n",
      "4220\n",
      "4230\n",
      "4240\n",
      "4250\n",
      "4260\n",
      "4270\n",
      "4280\n",
      "4290\n",
      "4300\n",
      "4310\n",
      "4320\n",
      "4330\n",
      "4340\n",
      "4350\n",
      "4360\n",
      "4370\n",
      "4380\n",
      "4390\n",
      "4400\n",
      "4410\n",
      "4420\n",
      "4430\n",
      "4440\n",
      "4450\n",
      "4460\n",
      "4470\n",
      "4480\n",
      "4490\n",
      "4500\n",
      "4510\n",
      "4520\n",
      "4530\n",
      "4540\n",
      "4550\n",
      "4560\n",
      "4570\n",
      "4580\n",
      "4590\n",
      "4600\n",
      "4610\n",
      "4620\n",
      "4630\n",
      "4640\n",
      "4650\n",
      "4660\n",
      "4670\n",
      "4680\n",
      "4690\n",
      "4700\n",
      "4710\n",
      "4720\n",
      "4730\n",
      "4740\n",
      "4750\n",
      "4760\n",
      "4770\n",
      "4780\n",
      "4790\n",
      "4800\n",
      "4810\n",
      "4820\n",
      "4830\n",
      "4840\n",
      "4850\n",
      "4860\n",
      "4870\n",
      "4880\n",
      "4890\n",
      "4900\n",
      "4910\n",
      "4920\n",
      "4930\n",
      "4940\n",
      "4950\n",
      "4960\n",
      "4970\n",
      "4980\n",
      "4990\n",
      "5000\n",
      "5010\n",
      "5020\n",
      "5030\n",
      "5040\n",
      "5050\n",
      "5060\n",
      "5070\n",
      "5080\n",
      "5090\n",
      "5100\n",
      "5110\n",
      "5120\n",
      "5130\n",
      "5140\n",
      "5150\n",
      "5160\n",
      "5170\n",
      "5180\n",
      "5190\n",
      "5200\n",
      "5210\n",
      "5220\n",
      "5230\n",
      "5240\n",
      "5250\n",
      "5260\n",
      "5270\n",
      "5280\n",
      "5290\n",
      "5300\n",
      "5310\n",
      "5320\n",
      "5330\n",
      "5340\n",
      "5350\n",
      "5360\n",
      "5370\n",
      "5380\n",
      "5390\n",
      "5400\n",
      "5410\n",
      "5420\n",
      "5430\n",
      "5440\n",
      "5450\n",
      "5460\n",
      "5470\n",
      "5480\n",
      "5490\n",
      "5500\n",
      "5510\n",
      "5520\n",
      "5530\n",
      "5540\n",
      "5550\n",
      "5560\n",
      "5570\n",
      "5580\n",
      "5590\n",
      "5600\n",
      "5610\n",
      "5620\n",
      "5630\n",
      "5640\n",
      "5650\n",
      "5660\n",
      "5670\n",
      "5680\n",
      "5690\n",
      "5700\n",
      "5710\n",
      "5720\n",
      "5730\n",
      "5740\n",
      "5750\n",
      "5760\n",
      "5770\n",
      "5780\n",
      "5790\n",
      "5800\n",
      "5810\n",
      "5820\n",
      "5830\n",
      "5840\n",
      "5850\n",
      "5860\n",
      "5870\n",
      "5880\n",
      "5890\n",
      "5900\n",
      "5910\n",
      "5920\n",
      "5930\n",
      "5940\n",
      "5950\n",
      "5960\n",
      "5970\n",
      "5980\n",
      "5990\n",
      "6000\n",
      "6010\n",
      "6020\n",
      "6030\n",
      "6040\n",
      "6050\n",
      "6060\n",
      "6070\n",
      "6080\n",
      "6090\n",
      "6100\n",
      "6110\n",
      "6120\n",
      "6130\n",
      "6140\n",
      "6150\n",
      "6160\n",
      "6170\n",
      "6180\n",
      "6190\n",
      "6200\n",
      "6210\n",
      "6220\n",
      "6230\n",
      "6240\n",
      "6250\n",
      "6260\n",
      "6270\n",
      "6280\n",
      "6290\n",
      "6300\n",
      "6310\n",
      "6320\n",
      "6330\n",
      "6340\n",
      "6350\n",
      "6360\n",
      "6370\n",
      "6380\n",
      "6390\n",
      "6400\n",
      "6410\n",
      "6420\n",
      "6430\n",
      "6440\n",
      "6450\n",
      "6460\n",
      "6470\n",
      "6480\n",
      "6490\n",
      "6500\n",
      "6510\n",
      "6520\n",
      "6530\n",
      "6540\n",
      "6550\n",
      "6560\n",
      "6570\n",
      "6580\n",
      "6590\n",
      "6600\n",
      "6610\n",
      "6620\n",
      "6630\n",
      "6640\n",
      "6650\n",
      "6660\n",
      "6670\n",
      "6680\n",
      "6690\n",
      "6700\n",
      "6710\n",
      "6720\n",
      "6730\n",
      "6740\n",
      "6750\n",
      "6760\n",
      "6770\n",
      "6780\n",
      "6790\n",
      "6800\n",
      "6810\n",
      "6820\n",
      "6830\n",
      "6840\n",
      "6850\n",
      "6860\n",
      "6870\n",
      "6880\n",
      "6890\n",
      "6900\n",
      "6910\n",
      "6920\n",
      "6930\n",
      "6940\n",
      "6950\n",
      "6960\n",
      "6970\n",
      "6980\n",
      "6990\n",
      "7000\n",
      "7010\n",
      "7020\n",
      "7030\n",
      "7040\n",
      "7050\n",
      "7060\n",
      "7070\n",
      "7080\n",
      "7090\n",
      "7100\n",
      "7110\n",
      "7120\n",
      "7130\n",
      "7140\n",
      "7150\n",
      "7160\n",
      "7170\n",
      "7180\n",
      "7190\n",
      "7200\n",
      "7210\n",
      "7220\n",
      "7230\n",
      "7240\n",
      "7250\n",
      "7260\n",
      "7270\n",
      "7280\n",
      "7290\n",
      "7300\n",
      "7310\n",
      "7320\n",
      "7330\n",
      "7340\n",
      "7350\n",
      "7360\n",
      "7370\n",
      "7380\n",
      "7390\n",
      "7400\n",
      "7410\n",
      "7420\n",
      "7430\n",
      "7440\n",
      "7450\n",
      "7460\n",
      "7470\n",
      "7480\n",
      "7490\n",
      "7500\n",
      "7510\n",
      "7520\n",
      "7530\n",
      "7540\n",
      "7550\n",
      "7560\n",
      "7570\n",
      "7580\n",
      "7590\n",
      "7600\n",
      "7610\n",
      "7620\n",
      "7630\n",
      "7640\n",
      "7650\n",
      "7660\n",
      "7670\n",
      "7680\n",
      "7690\n",
      "7700\n",
      "7710\n",
      "7720\n",
      "7730\n",
      "7740\n",
      "7750\n",
      "7760\n",
      "7770\n",
      "7780\n",
      "7790\n",
      "7800\n",
      "7810\n",
      "7820\n",
      "7830\n",
      "7840\n",
      "7850\n",
      "7860\n",
      "7870\n",
      "7880\n",
      "7890\n",
      "7900\n",
      "7910\n",
      "7920\n",
      "7930\n",
      "7940\n",
      "7950\n",
      "7960\n",
      "7970\n",
      "7980\n",
      "7990\n",
      "8000\n",
      "8010\n",
      "8020\n",
      "8030\n",
      "8040\n",
      "8050\n",
      "8060\n",
      "8070\n",
      "8080\n",
      "8090\n",
      "8100\n",
      "8110\n",
      "8120\n",
      "8130\n",
      "8140\n",
      "8150\n",
      "8160\n",
      "8170\n",
      "8180\n",
      "8190\n",
      "8200\n",
      "8210\n",
      "8220\n",
      "8230\n",
      "8240\n",
      "8250\n",
      "8260\n",
      "8270\n",
      "8280\n",
      "8290\n",
      "8300\n",
      "8310\n",
      "8320\n",
      "8330\n",
      "8340\n",
      "8350\n",
      "8360\n",
      "8370\n",
      "8380\n",
      "8390\n",
      "8400\n",
      "8410\n",
      "8420\n",
      "8430\n",
      "8440\n",
      "8450\n",
      "8460\n",
      "8470\n",
      "8480\n",
      "8490\n",
      "8500\n",
      "8510\n",
      "8520\n",
      "8530\n",
      "8540\n",
      "8550\n",
      "8560\n",
      "8570\n",
      "8580\n",
      "8590\n",
      "8600\n",
      "8610\n",
      "8620\n",
      "8630\n",
      "8640\n",
      "8650\n",
      "8660\n",
      "8670\n",
      "8680\n",
      "8690\n",
      "8700\n",
      "8710\n",
      "8720\n",
      "8730\n",
      "8740\n",
      "8750\n",
      "8760\n",
      "8770\n",
      "8780\n",
      "8790\n",
      "8800\n",
      "8810\n",
      "8820\n",
      "8830\n",
      "8840\n",
      "8850\n",
      "8860\n",
      "8870\n",
      "8880\n",
      "8890\n",
      "8900\n",
      "8910\n",
      "8920\n",
      "8930\n",
      "8940\n",
      "8950\n",
      "8960\n",
      "8970\n",
      "8980\n",
      "8990\n",
      "9000\n",
      "9010\n",
      "9020\n",
      "9030\n",
      "9040\n",
      "9050\n",
      "9060\n",
      "9070\n",
      "9080\n",
      "9090\n",
      "9100\n",
      "9110\n",
      "9120\n",
      "9130\n",
      "9140\n",
      "9150\n",
      "9160\n",
      "9170\n",
      "9180\n",
      "9190\n",
      "9200\n",
      "9210\n",
      "9220\n",
      "9230\n",
      "9240\n",
      "9250\n",
      "9260\n",
      "9270\n",
      "9280\n",
      "9290\n",
      "9300\n",
      "9310\n",
      "9320\n",
      "9330\n",
      "9340\n",
      "9350\n",
      "9360\n",
      "9370\n",
      "9380\n",
      "9390\n",
      "9400\n",
      "9410\n",
      "9420\n",
      "9430\n",
      "9440\n",
      "9450\n",
      "9460\n",
      "9470\n",
      "9480\n",
      "9490\n",
      "9500\n",
      "9510\n",
      "9520\n",
      "9530\n",
      "9540\n",
      "9550\n",
      "9560\n",
      "9570\n",
      "9580\n",
      "9590\n",
      "9600\n",
      "9610\n",
      "9620\n",
      "9630\n",
      "9640\n",
      "9650\n",
      "9660\n",
      "9670\n",
      "9680\n",
      "9690\n",
      "9700\n",
      "9710\n",
      "9720\n",
      "9730\n",
      "9740\n",
      "9750\n",
      "9760\n",
      "9770\n",
      "9780\n",
      "9790\n",
      "9800\n",
      "9810\n",
      "9820\n",
      "9830\n",
      "9840\n",
      "9850\n",
      "9860\n",
      "9870\n",
      "9880\n",
      "9890\n",
      "9900\n",
      "9910\n",
      "9920\n",
      "9930\n",
      "9940\n",
      "9950\n",
      "9960\n",
      "9970\n",
      "9980\n",
      "9990\n"
     ]
    }
   ],
   "source": [
    "##generate dataset\n",
    "# *****START CODE\n",
    "X,y = generate_dataset_regression(10_000)\n",
    "# *****END CODE"
   ]
  },
  {
   "cell_type": "code",
   "execution_count": 26,
   "id": "e99994da",
   "metadata": {
    "execution": {
     "iopub.execute_input": "2022-01-16T01:12:02.562150Z",
     "iopub.status.busy": "2022-01-16T01:12:02.561280Z",
     "iopub.status.idle": "2022-01-16T01:12:02.563215Z",
     "shell.execute_reply": "2022-01-16T01:12:02.563590Z",
     "shell.execute_reply.started": "2022-01-15T20:25:09.389663Z"
    },
    "id": "9sqjo8taat8N",
    "outputId": "9cd5461b-7c8e-4ec4-f017-2b2c0d8e9b34",
    "papermill": {
     "duration": 0.311284,
     "end_time": "2022-01-16T01:12:02.563725",
     "exception": false,
     "start_time": "2022-01-16T01:12:02.252441",
     "status": "completed"
    },
    "tags": []
   },
   "outputs": [],
   "source": [
    "#Reshape the X dimension to (10000,72,72)\n",
    "X = X.reshape(10000,1,72,72)"
   ]
  },
  {
   "cell_type": "code",
   "execution_count": 27,
   "id": "b80a52aa",
   "metadata": {
    "execution": {
     "iopub.execute_input": "2022-01-16T01:12:03.142511Z",
     "iopub.status.busy": "2022-01-16T01:12:03.141736Z",
     "iopub.status.idle": "2022-01-16T01:12:03.147259Z",
     "shell.execute_reply": "2022-01-16T01:12:03.146812Z",
     "shell.execute_reply.started": "2022-01-15T20:26:29.512921Z"
    },
    "id": "xIwVanB4RKmK",
    "outputId": "a1d4001b-b6de-4399-b59f-9bd2c07b5c45",
    "papermill": {
     "duration": 0.299476,
     "end_time": "2022-01-16T01:12:03.147380",
     "exception": false,
     "start_time": "2022-01-16T01:12:02.847904",
     "status": "completed"
    },
    "tags": []
   },
   "outputs": [],
   "source": [
    "##split the dataset to training and validation parts\n",
    "# *****START CODE\n",
    "X_train, y_train = X[:8000],y[:8000]\n",
    "X_val, y_val = X[8000:],y[8000:]\n",
    "\n",
    "# X_train = torch.from_numpy(X_train)\n",
    "# y_train = torch.from_numpy(y_train)\n",
    "\n",
    "# /\n",
    "from torch.utils.data import Dataset, DataLoader\n",
    "class TriangleDataset(Dataset):\n",
    "\n",
    "    def __init__(self, X_train, y_train):\n",
    "        self.x = X_train\n",
    "        self.y = y_train\n",
    "        self.n_samples = len(y_train)\n",
    "\n",
    "    def __getitem__(self,index):\n",
    "        return self.x[index],self.y[index]\n",
    "\n",
    "    def __len__(self):\n",
    "        return self.n_samples\n",
    "    \n",
    "transform_train = transforms.Compose([\n",
    "    transforms.ToTensor(),\n",
    "    transforms.Normalize((0.5,0.5,0.5),(0.5,0.5,0.5))\n",
    "])\n",
    "\n",
    "#Create a DataLoader training and validation set \n",
    "torch.set_default_dtype(torch.float32)\n",
    "training_set = TriangleDataset(X_train, y_train)\n",
    "validation_set = TriangleDataset(X_val,y_val)\n",
    "train_dataloader = DataLoader(training_set,batch_size=4,shuffle=True)\n",
    "val_dataloader = DataLoader(validation_set,batch_size=4,shuffle=True)\n",
    "\n",
    "data_iter = iter(train_dataloader)\n",
    "val_data_iter = iter(val_dataloader)\n",
    "images,labels = data_iter.next()\n",
    "images,labels = images, labels\n",
    "val_images, val_labels = val_data_iter.next()\n",
    "val_images, val_labels = val_images, val_labels\n",
    "# *****END CODE"
   ]
  },
  {
   "cell_type": "markdown",
   "id": "b81431ca",
   "metadata": {
    "id": "NEoZyhgZRKmK",
    "papermill": {
     "duration": 0.284457,
     "end_time": "2022-01-16T01:12:03.717900",
     "exception": false,
     "start_time": "2022-01-16T01:12:03.433443",
     "status": "completed"
    },
    "tags": []
   },
   "source": [
    "2b) Use function 'generate_test_set' to create the testing dataset."
   ]
  },
  {
   "cell_type": "code",
   "execution_count": 28,
   "id": "587b463a",
   "metadata": {
    "execution": {
     "iopub.execute_input": "2022-01-16T01:12:04.306696Z",
     "iopub.status.busy": "2022-01-16T01:12:04.304540Z",
     "iopub.status.idle": "2022-01-16T01:12:09.172036Z",
     "shell.execute_reply": "2022-01-16T01:12:09.171111Z",
     "shell.execute_reply.started": "2022-01-15T20:26:35.988932Z"
    },
    "id": "PE6e3nszRKmK",
    "outputId": "41f33baf-db24-4a43-bbc8-775adc0b5c55",
    "papermill": {
     "duration": 5.168688,
     "end_time": "2022-01-16T01:12:09.172187",
     "exception": false,
     "start_time": "2022-01-16T01:12:04.003499",
     "status": "completed"
    },
    "tags": []
   },
   "outputs": [
    {
     "name": "stdout",
     "output_type": "stream",
     "text": [
      "Creating data:\n",
      "0\n",
      "10\n",
      "20\n",
      "30\n",
      "40\n",
      "50\n",
      "60\n",
      "70\n",
      "80\n",
      "90\n",
      "100\n",
      "110\n",
      "120\n",
      "130\n",
      "140\n",
      "150\n",
      "160\n",
      "170\n",
      "180\n",
      "190\n",
      "200\n",
      "210\n",
      "220\n",
      "230\n",
      "240\n",
      "250\n",
      "260\n",
      "270\n",
      "280\n",
      "290\n"
     ]
    }
   ],
   "source": [
    "##generate test dataset\n",
    "# *****START CODE\n",
    "test_data = generate_test_set_regression()\n",
    "X_test, y_test = test_data[0],test_data[1]\n",
    "X_test = X_test.reshape(len(X_test),1,72,72)\n",
    "# *****END CODE"
   ]
  },
  {
   "cell_type": "markdown",
   "id": "f53d9f4f",
   "metadata": {
    "id": "tcsDj8eQRKmK",
    "papermill": {
     "duration": 0.28844,
     "end_time": "2022-01-16T01:12:09.766184",
     "exception": false,
     "start_time": "2022-01-16T01:12:09.477744",
     "status": "completed"
    },
    "tags": []
   },
   "source": [
    "2c) Create your own convolutional neural network.\n",
    "* Begin with the previous exercise model architecture\n",
    "* Optimize the architecture to perform well on predicting the different coordinates"
   ]
  },
  {
   "cell_type": "code",
   "execution_count": 29,
   "id": "39946930",
   "metadata": {
    "execution": {
     "iopub.execute_input": "2022-01-16T01:12:10.361403Z",
     "iopub.status.busy": "2022-01-16T01:12:10.360567Z",
     "iopub.status.idle": "2022-01-16T01:12:10.363112Z",
     "shell.execute_reply": "2022-01-16T01:12:10.362656Z",
     "shell.execute_reply.started": "2022-01-15T20:31:08.250218Z"
    },
    "id": "hQYXQV5LRKmL",
    "papermill": {
     "duration": 0.307459,
     "end_time": "2022-01-16T01:12:10.363251",
     "exception": false,
     "start_time": "2022-01-16T01:12:10.055792",
     "status": "completed"
    },
    "tags": []
   },
   "outputs": [],
   "source": [
    "import torch\n",
    "import torch.nn as nn\n",
    "import torch.nn.functional as F\n",
    "\n",
    "# *****START CODE\n",
    "class ConvNetR(nn.Module):\n",
    "    def __init__(self):\n",
    "        super(ConvNetR, self).__init__()\n",
    "        self.conv1 = nn.Conv2d(1,24,kernel_size=3,padding=1)\n",
    "        self.activation1 = nn.ReLU()\n",
    "        self.conv2 = nn.Conv2d(24,48,kernel_size=3,padding=1)\n",
    "        self.activation2 = nn.ReLU()\n",
    "        self.pooling1 = nn.MaxPool2d(kernel_size=3,stride=2)\n",
    "        self.conv3 = nn.Conv2d(48,96,kernel_size=3,padding=1)\n",
    "        self.activation3 = nn.ReLU()\n",
    "        self.conv4 = nn.Conv2d(96,192,kernel_size=3,padding=1)\n",
    "        self.activation4 = nn.ReLU()\n",
    "        self.conv5 = nn.Conv2d(192,192,kernel_size=3,padding=1)\n",
    "        self.activation5 = nn.ReLU()\n",
    "        self.pooling2 = nn.MaxPool2d(kernel_size=3,stride=2)\n",
    "        self.norm1 = nn.BatchNorm2d(192)\n",
    "        self.conv6 = nn.Conv2d(192, 192, kernel_size=3,padding=1)\n",
    "        self.activation6 = nn.ReLU()\n",
    "        self.pooling3 = nn.MaxPool2d(3,3)\n",
    "        self.pooling4 = nn.AdaptiveAvgPool2d((1,1))\n",
    "        self.norm2 = nn.BatchNorm1d(192)\n",
    "        self.linear1 = nn.Linear(192,192)\n",
    "        self.activation7 = nn.ReLU()\n",
    "        self.linear2 = nn.Linear(192,6)\n",
    "        \n",
    "    def forward(self, x):\n",
    "        x = self.conv1(x)\n",
    "        x = self.activation1(x)\n",
    "        x = self.conv2(x)\n",
    "        x = self.activation2(x)\n",
    "        x = self.pooling1(x)\n",
    "        x = self.conv3(x)\n",
    "        x = self.activation3(x)\n",
    "        x = self.conv4(x)\n",
    "        x = self.activation4(x)\n",
    "        x = self.conv5(x)\n",
    "        x = self.activation5(x)\n",
    "        x = self.pooling2(x)\n",
    "        x = self.norm1(x)\n",
    "        x = self.conv6(x)\n",
    "        x = self.activation6(x)\n",
    "        x = self.pooling3(x)\n",
    "        x = self.pooling4(x)\n",
    "        x = torch.flatten(x,1)\n",
    "        x = self.norm2(x)\n",
    "        x = self.linear1(x)\n",
    "        x = self.activation7(x)\n",
    "        x = self.linear2(x)\n",
    "        return x\n",
    "\n",
    "\n",
    "# *****END CODE"
   ]
  },
  {
   "cell_type": "code",
   "execution_count": 30,
   "id": "79b4b83c",
   "metadata": {
    "execution": {
     "iopub.execute_input": "2022-01-16T01:12:10.948602Z",
     "iopub.status.busy": "2022-01-16T01:12:10.947783Z",
     "iopub.status.idle": "2022-01-16T01:12:11.014022Z",
     "shell.execute_reply": "2022-01-16T01:12:11.014452Z",
     "shell.execute_reply.started": "2022-01-15T20:31:11.004341Z"
    },
    "papermill": {
     "duration": 0.363927,
     "end_time": "2022-01-16T01:12:11.014599",
     "exception": false,
     "start_time": "2022-01-16T01:12:10.650672",
     "status": "completed"
    },
    "tags": []
   },
   "outputs": [
    {
     "name": "stdout",
     "output_type": "stream",
     "text": [
      "torch.Size([4, 24, 74, 74])\n",
      "torch.Size([4, 48, 75, 75])\n",
      "torch.Size([4, 48, 37, 37])\n",
      "torch.Size([4, 96, 38, 38])\n",
      "torch.Size([4, 192, 39, 39])\n",
      "torch.Size([4, 192, 19, 19])\n",
      "torch.Size([4, 192, 20, 20])\n",
      "torch.Size([4, 192, 21, 21])\n",
      "torch.Size([4, 192, 7, 7])\n",
      "torch.Size([4, 192, 1, 1])\n"
     ]
    }
   ],
   "source": [
    "conv1 = nn.Conv2d(1,24,kernel_size=1,padding=1)\n",
    "conv2 = nn.Conv2d(24,48,kernel_size=2,padding=1)\n",
    "pooling1 = nn.MaxPool2d(kernel_size=2,stride=2)\n",
    "conv3 = nn.Conv2d(48,96,kernel_size=2,padding=1)\n",
    "conv4 = nn.Conv2d(96,192,kernel_size=2,padding=1)\n",
    "conv5 = nn.Conv2d(192,192,kernel_size=2,padding=1)\n",
    "pooling2 = nn.MaxPool2d(kernel_size=2,stride=2)\n",
    "conv6 = nn.Conv2d(192, 192, kernel_size=2,padding=1)\n",
    "pooling3 = nn.MaxPool2d(3,3)\n",
    "pooling4 = nn.AdaptiveAvgPool2d((1,1))\n",
    "\n",
    "\n",
    "x = conv1(images.float())\n",
    "print(x.shape)\n",
    "x = conv2(x)\n",
    "print(x.shape)\n",
    "x = pooling1(x)\n",
    "print(x.shape)\n",
    "x = conv3(x)\n",
    "print(x.shape)\n",
    "x = conv4(x)\n",
    "print(x.shape)\n",
    "x = pooling2(x)\n",
    "print(x.shape)\n",
    "x = conv5(x)\n",
    "print(x.shape)\n",
    "x = conv6(x)\n",
    "print(x.shape)\n",
    "x = pooling3(x)\n",
    "print(x.shape)\n",
    "x = pooling4(x)\n",
    "print(x.shape)\n",
    "# x = torch.flatten(x,1)\n",
    "# print(x.shape)"
   ]
  },
  {
   "cell_type": "markdown",
   "id": "4d16e7c5",
   "metadata": {
    "id": "U6PxmyfqRKmM",
    "papermill": {
     "duration": 0.288013,
     "end_time": "2022-01-16T01:12:11.595250",
     "exception": false,
     "start_time": "2022-01-16T01:12:11.307237",
     "status": "completed"
    },
    "tags": []
   },
   "source": [
    "2d) Define learning rate, model, optimizer, criterion and number of epochs."
   ]
  },
  {
   "cell_type": "code",
   "execution_count": 31,
   "id": "40b37600",
   "metadata": {
    "execution": {
     "iopub.execute_input": "2022-01-16T01:12:12.199173Z",
     "iopub.status.busy": "2022-01-16T01:12:12.198359Z",
     "iopub.status.idle": "2022-01-16T01:12:12.212842Z",
     "shell.execute_reply": "2022-01-16T01:12:12.212393Z",
     "shell.execute_reply.started": "2022-01-15T20:31:29.757295Z"
    },
    "id": "vS9LIDmlRKmM",
    "papermill": {
     "duration": 0.329012,
     "end_time": "2022-01-16T01:12:12.212980",
     "exception": false,
     "start_time": "2022-01-16T01:12:11.883968",
     "status": "completed"
    },
    "tags": []
   },
   "outputs": [],
   "source": [
    "# *****START CODE\n",
    "lr = 0.001\n",
    "model = ConvNetR().to(device)\n",
    "optimizer = torch.optim.SGD(params=model.parameters(),lr=lr)\n",
    "criterion = nn.MSELoss()\n",
    "epochs = 40\n",
    "# *****END CODE"
   ]
  },
  {
   "cell_type": "markdown",
   "id": "6d0ca025",
   "metadata": {
    "id": "JNtKYgzTRKmM",
    "papermill": {
     "duration": 0.2874,
     "end_time": "2022-01-16T01:12:12.789797",
     "exception": false,
     "start_time": "2022-01-16T01:12:12.502397",
     "status": "completed"
    },
    "tags": []
   },
   "source": [
    "2e) What criterion did you choose and why?\n",
    "* Write a small description for the loss function that you want to use for this specific problem.\n",
    "* What was your intuition for using this loss?\n",
    "\n",
    "\n",
    "Answer: The loss function which is appropriate for this problem would be the **mean squared error** criterion. The reason it would be so is because the mean squared error minimises the squared deviations. Since the CNN architecture is posed to solve a tensor regression problem, we need to minimize the error between the predicted tensor output for the triangle coordinates and the actual tensor coordinates of the triangle."
   ]
  },
  {
   "cell_type": "markdown",
   "id": "1a3a1350",
   "metadata": {
    "id": "HmjN0W-KRKmN",
    "papermill": {
     "duration": 0.326815,
     "end_time": "2022-01-16T01:12:13.461003",
     "exception": false,
     "start_time": "2022-01-16T01:12:13.134188",
     "status": "completed"
    },
    "tags": []
   },
   "source": [
    "2f) Train your model and validate it at the end of each epoch.\n",
    "* Similarly to the previous question train and validate your network for each epoch\n",
    "* Write a small description on how you decide which is the optimal epoch\n",
    "* Use this epoch and evaluate your model on the test set\n",
    "* Visualise some predictions using the function 'visualize_prediction'\n",
    "* What do you observe?"
   ]
  },
  {
   "cell_type": "code",
   "execution_count": 32,
   "id": "732bded8",
   "metadata": {
    "execution": {
     "iopub.execute_input": "2022-01-16T01:12:14.052098Z",
     "iopub.status.busy": "2022-01-16T01:12:14.051399Z",
     "iopub.status.idle": "2022-01-16T01:28:29.149967Z",
     "shell.execute_reply": "2022-01-16T01:28:29.147741Z",
     "shell.execute_reply.started": "2022-01-15T20:35:35.828467Z"
    },
    "id": "VZfRftoFRKmN",
    "outputId": "23711968-bc7c-480e-a853-1d60e2cdd701",
    "papermill": {
     "duration": 975.399829,
     "end_time": "2022-01-16T01:28:29.150101",
     "exception": false,
     "start_time": "2022-01-16T01:12:13.750272",
     "status": "completed"
    },
    "tags": []
   },
   "outputs": [
    {
     "name": "stderr",
     "output_type": "stream",
     "text": [
      "  2%|▎         | 1/40 [00:24<15:56, 24.54s/it]"
     ]
    },
    {
     "name": "stdout",
     "output_type": "stream",
     "text": [
      "Epoch: 1 \tTraining Loss: 0.3019\n",
      "Epoch: 1 \tValidation Loss: 0.2794\n"
     ]
    },
    {
     "name": "stderr",
     "output_type": "stream",
     "text": [
      "  5%|▌         | 2/40 [00:49<15:33, 24.56s/it]"
     ]
    },
    {
     "name": "stdout",
     "output_type": "stream",
     "text": [
      "Epoch: 2 \tTraining Loss: 0.2757\n",
      "Epoch: 2 \tValidation Loss: 0.2719\n"
     ]
    },
    {
     "name": "stderr",
     "output_type": "stream",
     "text": [
      "  8%|▊         | 3/40 [01:13<15:05, 24.47s/it]"
     ]
    },
    {
     "name": "stdout",
     "output_type": "stream",
     "text": [
      "Epoch: 3 \tTraining Loss: 0.2692\n",
      "Epoch: 3 \tValidation Loss: 0.2681\n"
     ]
    },
    {
     "name": "stderr",
     "output_type": "stream",
     "text": [
      " 10%|█         | 4/40 [01:37<14:38, 24.39s/it]"
     ]
    },
    {
     "name": "stdout",
     "output_type": "stream",
     "text": [
      "Epoch: 4 \tTraining Loss: 0.2648\n",
      "Epoch: 4 \tValidation Loss: 0.2655\n"
     ]
    },
    {
     "name": "stderr",
     "output_type": "stream",
     "text": [
      " 12%|█▎        | 5/40 [02:02<14:13, 24.37s/it]"
     ]
    },
    {
     "name": "stdout",
     "output_type": "stream",
     "text": [
      "Epoch: 5 \tTraining Loss: 0.2620\n",
      "Epoch: 5 \tValidation Loss: 0.2620\n"
     ]
    },
    {
     "name": "stderr",
     "output_type": "stream",
     "text": [
      " 15%|█▌        | 6/40 [02:26<13:49, 24.38s/it]"
     ]
    },
    {
     "name": "stdout",
     "output_type": "stream",
     "text": [
      "Epoch: 6 \tTraining Loss: 0.2599\n",
      "Epoch: 6 \tValidation Loss: 0.2620\n"
     ]
    },
    {
     "name": "stderr",
     "output_type": "stream",
     "text": [
      " 18%|█▊        | 7/40 [02:50<13:24, 24.37s/it]"
     ]
    },
    {
     "name": "stdout",
     "output_type": "stream",
     "text": [
      "Epoch: 7 \tTraining Loss: 0.2590\n",
      "Epoch: 7 \tValidation Loss: 0.2609\n"
     ]
    },
    {
     "name": "stderr",
     "output_type": "stream",
     "text": [
      " 20%|██        | 8/40 [03:15<12:59, 24.35s/it]"
     ]
    },
    {
     "name": "stdout",
     "output_type": "stream",
     "text": [
      "Epoch: 8 \tTraining Loss: 0.2570\n",
      "Epoch: 8 \tValidation Loss: 0.2591\n"
     ]
    },
    {
     "name": "stderr",
     "output_type": "stream",
     "text": [
      " 22%|██▎       | 9/40 [03:39<12:36, 24.40s/it]"
     ]
    },
    {
     "name": "stdout",
     "output_type": "stream",
     "text": [
      "Epoch: 9 \tTraining Loss: 0.2555\n",
      "Epoch: 9 \tValidation Loss: 0.2586\n"
     ]
    },
    {
     "name": "stderr",
     "output_type": "stream",
     "text": [
      " 25%|██▌       | 10/40 [04:03<12:11, 24.37s/it]"
     ]
    },
    {
     "name": "stdout",
     "output_type": "stream",
     "text": [
      "Epoch: 10 \tTraining Loss: 0.2549\n",
      "Epoch: 10 \tValidation Loss: 0.2575\n"
     ]
    },
    {
     "name": "stderr",
     "output_type": "stream",
     "text": [
      " 28%|██▊       | 11/40 [04:28<11:47, 24.38s/it]"
     ]
    },
    {
     "name": "stdout",
     "output_type": "stream",
     "text": [
      "Epoch: 11 \tTraining Loss: 0.2534\n",
      "Epoch: 11 \tValidation Loss: 0.2574\n"
     ]
    },
    {
     "name": "stderr",
     "output_type": "stream",
     "text": [
      " 30%|███       | 12/40 [04:52<11:22, 24.37s/it]"
     ]
    },
    {
     "name": "stdout",
     "output_type": "stream",
     "text": [
      "Epoch: 12 \tTraining Loss: 0.2524\n",
      "Epoch: 12 \tValidation Loss: 0.2559\n"
     ]
    },
    {
     "name": "stderr",
     "output_type": "stream",
     "text": [
      " 32%|███▎      | 13/40 [05:17<10:57, 24.35s/it]"
     ]
    },
    {
     "name": "stdout",
     "output_type": "stream",
     "text": [
      "Epoch: 13 \tTraining Loss: 0.2521\n",
      "Epoch: 13 \tValidation Loss: 0.2550\n"
     ]
    },
    {
     "name": "stderr",
     "output_type": "stream",
     "text": [
      " 35%|███▌      | 14/40 [05:41<10:33, 24.35s/it]"
     ]
    },
    {
     "name": "stdout",
     "output_type": "stream",
     "text": [
      "Epoch: 14 \tTraining Loss: 0.2512\n",
      "Epoch: 14 \tValidation Loss: 0.2558\n"
     ]
    },
    {
     "name": "stderr",
     "output_type": "stream",
     "text": [
      " 38%|███▊      | 15/40 [06:05<10:08, 24.36s/it]"
     ]
    },
    {
     "name": "stdout",
     "output_type": "stream",
     "text": [
      "Epoch: 15 \tTraining Loss: 0.2502\n",
      "Epoch: 15 \tValidation Loss: 0.2552\n"
     ]
    },
    {
     "name": "stderr",
     "output_type": "stream",
     "text": [
      " 40%|████      | 16/40 [06:30<09:46, 24.42s/it]"
     ]
    },
    {
     "name": "stdout",
     "output_type": "stream",
     "text": [
      "Epoch: 16 \tTraining Loss: 0.2494\n",
      "Epoch: 16 \tValidation Loss: 0.2547\n"
     ]
    },
    {
     "name": "stderr",
     "output_type": "stream",
     "text": [
      " 42%|████▎     | 17/40 [06:54<09:21, 24.39s/it]"
     ]
    },
    {
     "name": "stdout",
     "output_type": "stream",
     "text": [
      "Epoch: 17 \tTraining Loss: 0.2492\n",
      "Epoch: 17 \tValidation Loss: 0.2546\n"
     ]
    },
    {
     "name": "stderr",
     "output_type": "stream",
     "text": [
      " 45%|████▌     | 18/40 [07:18<08:56, 24.37s/it]"
     ]
    },
    {
     "name": "stdout",
     "output_type": "stream",
     "text": [
      "Epoch: 18 \tTraining Loss: 0.2485\n",
      "Epoch: 18 \tValidation Loss: 0.2532\n"
     ]
    },
    {
     "name": "stderr",
     "output_type": "stream",
     "text": [
      " 48%|████▊     | 19/40 [07:43<08:31, 24.36s/it]"
     ]
    },
    {
     "name": "stdout",
     "output_type": "stream",
     "text": [
      "Epoch: 19 \tTraining Loss: 0.2482\n",
      "Epoch: 19 \tValidation Loss: 0.2536\n"
     ]
    },
    {
     "name": "stderr",
     "output_type": "stream",
     "text": [
      " 50%|█████     | 20/40 [08:07<08:07, 24.37s/it]"
     ]
    },
    {
     "name": "stdout",
     "output_type": "stream",
     "text": [
      "Epoch: 20 \tTraining Loss: 0.2476\n",
      "Epoch: 20 \tValidation Loss: 0.2520\n"
     ]
    },
    {
     "name": "stderr",
     "output_type": "stream",
     "text": [
      " 52%|█████▎    | 21/40 [08:31<07:42, 24.34s/it]"
     ]
    },
    {
     "name": "stdout",
     "output_type": "stream",
     "text": [
      "Epoch: 21 \tTraining Loss: 0.2477\n",
      "Epoch: 21 \tValidation Loss: 0.2527\n"
     ]
    },
    {
     "name": "stderr",
     "output_type": "stream",
     "text": [
      " 55%|█████▌    | 22/40 [08:56<07:18, 24.33s/it]"
     ]
    },
    {
     "name": "stdout",
     "output_type": "stream",
     "text": [
      "Epoch: 22 \tTraining Loss: 0.2465\n",
      "Epoch: 22 \tValidation Loss: 0.2533\n"
     ]
    },
    {
     "name": "stderr",
     "output_type": "stream",
     "text": [
      " 57%|█████▊    | 23/40 [09:20<06:53, 24.34s/it]"
     ]
    },
    {
     "name": "stdout",
     "output_type": "stream",
     "text": [
      "Epoch: 23 \tTraining Loss: 0.2462\n",
      "Epoch: 23 \tValidation Loss: 0.2527\n"
     ]
    },
    {
     "name": "stderr",
     "output_type": "stream",
     "text": [
      " 60%|██████    | 24/40 [09:44<06:29, 24.34s/it]"
     ]
    },
    {
     "name": "stdout",
     "output_type": "stream",
     "text": [
      "Epoch: 24 \tTraining Loss: 0.2461\n",
      "Epoch: 24 \tValidation Loss: 0.2517\n"
     ]
    },
    {
     "name": "stderr",
     "output_type": "stream",
     "text": [
      " 62%|██████▎   | 25/40 [10:09<06:05, 24.35s/it]"
     ]
    },
    {
     "name": "stdout",
     "output_type": "stream",
     "text": [
      "Epoch: 25 \tTraining Loss: 0.2449\n",
      "Epoch: 25 \tValidation Loss: 0.2531\n"
     ]
    },
    {
     "name": "stderr",
     "output_type": "stream",
     "text": [
      " 65%|██████▌   | 26/40 [10:33<05:40, 24.34s/it]"
     ]
    },
    {
     "name": "stdout",
     "output_type": "stream",
     "text": [
      "Epoch: 26 \tTraining Loss: 0.2451\n",
      "Epoch: 26 \tValidation Loss: 0.2521\n"
     ]
    },
    {
     "name": "stderr",
     "output_type": "stream",
     "text": [
      " 68%|██████▊   | 27/40 [10:57<05:16, 24.34s/it]"
     ]
    },
    {
     "name": "stdout",
     "output_type": "stream",
     "text": [
      "Epoch: 27 \tTraining Loss: 0.2444\n",
      "Epoch: 27 \tValidation Loss: 0.2517\n"
     ]
    },
    {
     "name": "stderr",
     "output_type": "stream",
     "text": [
      " 70%|███████   | 28/40 [11:22<04:52, 24.34s/it]"
     ]
    },
    {
     "name": "stdout",
     "output_type": "stream",
     "text": [
      "Epoch: 28 \tTraining Loss: 0.2441\n",
      "Epoch: 28 \tValidation Loss: 0.2523\n"
     ]
    },
    {
     "name": "stderr",
     "output_type": "stream",
     "text": [
      " 72%|███████▎  | 29/40 [11:46<04:27, 24.35s/it]"
     ]
    },
    {
     "name": "stdout",
     "output_type": "stream",
     "text": [
      "Epoch: 29 \tTraining Loss: 0.2436\n",
      "Epoch: 29 \tValidation Loss: 0.2527\n"
     ]
    },
    {
     "name": "stderr",
     "output_type": "stream",
     "text": [
      " 75%|███████▌  | 30/40 [12:11<04:03, 24.36s/it]"
     ]
    },
    {
     "name": "stdout",
     "output_type": "stream",
     "text": [
      "Epoch: 30 \tTraining Loss: 0.2430\n",
      "Epoch: 30 \tValidation Loss: 0.2520\n"
     ]
    },
    {
     "name": "stderr",
     "output_type": "stream",
     "text": [
      " 78%|███████▊  | 31/40 [12:35<03:39, 24.41s/it]"
     ]
    },
    {
     "name": "stdout",
     "output_type": "stream",
     "text": [
      "Epoch: 31 \tTraining Loss: 0.2428\n",
      "Epoch: 31 \tValidation Loss: 0.2514\n"
     ]
    },
    {
     "name": "stderr",
     "output_type": "stream",
     "text": [
      " 80%|████████  | 32/40 [12:59<03:15, 24.40s/it]"
     ]
    },
    {
     "name": "stdout",
     "output_type": "stream",
     "text": [
      "Epoch: 32 \tTraining Loss: 0.2425\n",
      "Epoch: 32 \tValidation Loss: 0.2523\n"
     ]
    },
    {
     "name": "stderr",
     "output_type": "stream",
     "text": [
      " 82%|████████▎ | 33/40 [13:24<02:50, 24.39s/it]"
     ]
    },
    {
     "name": "stdout",
     "output_type": "stream",
     "text": [
      "Epoch: 33 \tTraining Loss: 0.2422\n",
      "Epoch: 33 \tValidation Loss: 0.2528\n"
     ]
    },
    {
     "name": "stderr",
     "output_type": "stream",
     "text": [
      " 85%|████████▌ | 34/40 [13:48<02:26, 24.36s/it]"
     ]
    },
    {
     "name": "stdout",
     "output_type": "stream",
     "text": [
      "Epoch: 34 \tTraining Loss: 0.2423\n",
      "Epoch: 34 \tValidation Loss: 0.2532\n"
     ]
    },
    {
     "name": "stderr",
     "output_type": "stream",
     "text": [
      " 88%|████████▊ | 35/40 [14:12<02:01, 24.35s/it]"
     ]
    },
    {
     "name": "stdout",
     "output_type": "stream",
     "text": [
      "Epoch: 35 \tTraining Loss: 0.2417\n",
      "Epoch: 35 \tValidation Loss: 0.2519\n"
     ]
    },
    {
     "name": "stderr",
     "output_type": "stream",
     "text": [
      " 90%|█████████ | 36/40 [14:37<01:37, 24.34s/it]"
     ]
    },
    {
     "name": "stdout",
     "output_type": "stream",
     "text": [
      "Epoch: 36 \tTraining Loss: 0.2412\n",
      "Epoch: 36 \tValidation Loss: 0.2519\n"
     ]
    },
    {
     "name": "stderr",
     "output_type": "stream",
     "text": [
      " 92%|█████████▎| 37/40 [15:01<01:13, 24.36s/it]"
     ]
    },
    {
     "name": "stdout",
     "output_type": "stream",
     "text": [
      "Epoch: 37 \tTraining Loss: 0.2408\n",
      "Epoch: 37 \tValidation Loss: 0.2503\n"
     ]
    },
    {
     "name": "stderr",
     "output_type": "stream",
     "text": [
      " 95%|█████████▌| 38/40 [15:25<00:48, 24.34s/it]"
     ]
    },
    {
     "name": "stdout",
     "output_type": "stream",
     "text": [
      "Epoch: 38 \tTraining Loss: 0.2401\n",
      "Epoch: 38 \tValidation Loss: 0.2514\n"
     ]
    },
    {
     "name": "stderr",
     "output_type": "stream",
     "text": [
      " 98%|█████████▊| 39/40 [15:50<00:24, 24.37s/it]"
     ]
    },
    {
     "name": "stdout",
     "output_type": "stream",
     "text": [
      "Epoch: 39 \tTraining Loss: 0.2402\n",
      "Epoch: 39 \tValidation Loss: 0.2530\n"
     ]
    },
    {
     "name": "stderr",
     "output_type": "stream",
     "text": [
      "100%|██████████| 40/40 [16:14<00:00, 24.37s/it]"
     ]
    },
    {
     "name": "stdout",
     "output_type": "stream",
     "text": [
      "Epoch: 40 \tTraining Loss: 0.2400\n",
      "Epoch: 40 \tValidation Loss: 0.2532\n",
      "Finished Training\n"
     ]
    },
    {
     "name": "stderr",
     "output_type": "stream",
     "text": [
      "\n"
     ]
    }
   ],
   "source": [
    "# *****START CODE\n",
    "from tqdm import tqdm\n",
    "train_errors, validation_errors = [],[]\n",
    "for i in tqdm(range(epochs)):\n",
    "    \n",
    "    training_loss, validation_loss = 0.0, 0.0\n",
    "    for images, coords in train_dataloader:\n",
    "        images,coords = images.float(), coords.float()\n",
    "        images = images.to(device)\n",
    "        coords = coords.to(device)\n",
    "        optimizer.zero_grad()\n",
    "\n",
    "        # forward + backward + optimize\n",
    "        output = model(images)\n",
    "        #Train loss\n",
    "        loss = torch.sqrt(criterion(output, coords)) #Take the RMSE of the errors \n",
    "        loss.backward()\n",
    "        optimizer.step()\n",
    "        #Update training loss \n",
    "        training_loss += loss.item()\n",
    "\n",
    "        #Model Validation\n",
    "    else:\n",
    "        with torch.no_grad(): #Gradient tape is cancelled for validation\n",
    "            for val_images, val_coords in val_dataloader:\n",
    "                val_images, val_coords = val_images.float(), val_coords.float()\n",
    "                val_images = val_images.to(device)\n",
    "                val_coords = val_coords.to(device)\n",
    "                val_output = model(val_images)\n",
    "                val_loss = torch.sqrt(criterion(val_output,val_coords))\n",
    "                validation_loss += val_loss.item()\n",
    "                \n",
    "        train_loss = training_loss/len(train_dataloader)\n",
    "        valid_loss = validation_loss/len(val_dataloader)\n",
    "\n",
    "        train_errors.append(train_loss)\n",
    "        validation_errors.append(valid_loss)\n",
    "\n",
    "#         Print epoch training\n",
    "    print('Epoch: {} \\tTraining Loss: {:.4f}'.format(\n",
    "    i+1, train_loss))\n",
    "    print('Epoch: {} \\tValidation Loss: {:.4f}'.format(\n",
    "    i+1, valid_loss))\n",
    "\n",
    "print('Finished Training')\n",
    "\n",
    "\n",
    "# *****END CODE"
   ]
  },
  {
   "cell_type": "code",
   "execution_count": 33,
   "id": "1144fe0a",
   "metadata": {
    "execution": {
     "iopub.execute_input": "2022-01-16T01:28:29.794081Z",
     "iopub.status.busy": "2022-01-16T01:28:29.790092Z",
     "iopub.status.idle": "2022-01-16T01:28:30.040181Z",
     "shell.execute_reply": "2022-01-16T01:28:30.039522Z",
     "shell.execute_reply.started": "2022-01-15T21:02:47.682908Z"
    },
    "papermill": {
     "duration": 0.57931,
     "end_time": "2022-01-16T01:28:30.040309",
     "exception": false,
     "start_time": "2022-01-16T01:28:29.460999",
     "status": "completed"
    },
    "tags": []
   },
   "outputs": [
    {
     "data": {
      "image/png": "[encoded data removed]",
      "text/plain": [
       "<Figure size 432x288 with 1 Axes>"
      ]
     },
     "metadata": {
      "needs_background": "light"
     },
     "output_type": "display_data"
    }
   ],
   "source": [
    "plt.plot(train_errors)\n",
    "plt.plot(validation_errors)\n",
    "plt.legend(['Train Loss','Validation Loss'])\n",
    "plt.title(\"Validation and Training Loss for ConvNet\")\n",
    "plt.tight_layout()"
   ]
  },
  {
   "cell_type": "code",
   "execution_count": 34,
   "id": "d0751d2c",
   "metadata": {
    "execution": {
     "iopub.execute_input": "2022-01-16T01:28:30.681948Z",
     "iopub.status.busy": "2022-01-16T01:28:30.681100Z",
     "iopub.status.idle": "2022-01-16T01:28:30.846556Z",
     "shell.execute_reply": "2022-01-16T01:28:30.847363Z",
     "shell.execute_reply.started": "2022-01-15T21:02:52.949260Z"
    },
    "id": "jTqLTm8LRKmN",
    "papermill": {
     "duration": 0.484624,
     "end_time": "2022-01-16T01:28:30.847521",
     "exception": false,
     "start_time": "2022-01-16T01:28:30.362897",
     "status": "completed"
    },
    "tags": []
   },
   "outputs": [
    {
     "data": {
      "image/png": "[encoded data removed]",
      "text/plain": [
       "<Figure size 360x360 with 1 Axes>"
      ]
     },
     "metadata": {
      "needs_background": "light"
     },
     "output_type": "display_data"
    }
   ],
   "source": [
    "# *****START CODE\n",
    "pred = model(val_images[0:4])[1]\n",
    "visualize_prediction(val_images[1].detach().cpu(),pred.detach().cpu())\n",
    "# visualize_prediction(val_images[1].detach().cpu(),val_coords[1].detach().cpu())\n",
    "# *****END CODE"
   ]
  },
  {
   "cell_type": "markdown",
   "id": "f11759c7",
   "metadata": {
    "papermill": {
     "duration": 0.312125,
     "end_time": "2022-01-16T01:28:31.471713",
     "exception": false,
     "start_time": "2022-01-16T01:28:31.159588",
     "status": "completed"
    },
    "tags": []
   },
   "source": [
    "What we see is that after the training procedure, the fit is not quite great."
   ]
  },
  {
   "cell_type": "markdown",
   "id": "fda8ddb6",
   "metadata": {
    "id": "zTCMv88pRKmN",
    "papermill": {
     "duration": 0.313082,
     "end_time": "2022-01-16T01:28:32.099461",
     "exception": false,
     "start_time": "2022-01-16T01:28:31.786379",
     "status": "completed"
    },
    "tags": []
   },
   "source": [
    "2g) Think and implement a preprocessing step that can boost the accuracy of your network"
   ]
  },
  {
   "cell_type": "code",
   "execution_count": 35,
   "id": "f550eb31",
   "metadata": {
    "execution": {
     "iopub.execute_input": "2022-01-16T01:28:32.733535Z",
     "iopub.status.busy": "2022-01-16T01:28:32.732750Z",
     "iopub.status.idle": "2022-01-16T01:28:32.739534Z",
     "shell.execute_reply": "2022-01-16T01:28:32.739099Z",
     "shell.execute_reply.started": "2022-01-15T21:50:43.422207Z"
    },
    "papermill": {
     "duration": 0.327641,
     "end_time": "2022-01-16T01:28:32.739653",
     "exception": false,
     "start_time": "2022-01-16T01:28:32.412012",
     "status": "completed"
    },
    "tags": []
   },
   "outputs": [],
   "source": [
    "class TriangleDataset(Dataset):\n",
    "\n",
    "    def __init__(self, X_train, y_train):\n",
    "        self.x = X_train\n",
    "        self.y = y_train\n",
    "        self.n_samples = len(y_train)\n",
    "\n",
    "    def __getitem__(self,index):\n",
    "        X, y = self.x[index],self.y[index]\n",
    "    \n",
    "        return X, y\n",
    "    \n",
    "    def __len__(self):\n",
    "        return self.n_samples\n",
    "\n",
    "    \n",
    "transform_train = transforms.Compose([\n",
    "                        transforms.Normalize((0.5),(0.5))\n",
    "                    ])\n",
    "#Create a DataLoader training and validation set \n",
    "torch.set_default_dtype(torch.float32)\n",
    "training_set = TriangleDataset(X_train, y_train)\n",
    "validation_set = TriangleDataset(X_val,y_val)\n",
    "train_dataloader = DataLoader(training_set,batch_size=4,shuffle=True)\n",
    "val_dataloader = DataLoader(validation_set,batch_size=4,shuffle=True)\n",
    "\n",
    "data_iter = iter(train_dataloader)\n",
    "val_data_iter = iter(val_dataloader)\n",
    "images,labels = data_iter.next()\n",
    "images,labels = transform_train(images), labels\n",
    "val_images, val_labels = val_data_iter.next()\n",
    "val_images, val_labels = transform_train(val_images), val_labels\n",
    "# *****END CODE"
   ]
  },
  {
   "cell_type": "code",
   "execution_count": 36,
   "id": "626b9607",
   "metadata": {
    "execution": {
     "iopub.execute_input": "2022-01-16T01:28:33.376060Z",
     "iopub.status.busy": "2022-01-16T01:28:33.375218Z",
     "iopub.status.idle": "2022-01-16T01:44:50.984444Z",
     "shell.execute_reply": "2022-01-16T01:44:50.982244Z",
     "shell.execute_reply.started": "2022-01-15T21:50:54.405408Z"
    },
    "papermill": {
     "duration": 977.932466,
     "end_time": "2022-01-16T01:44:50.984585",
     "exception": false,
     "start_time": "2022-01-16T01:28:33.052119",
     "status": "completed"
    },
    "tags": []
   },
   "outputs": [
    {
     "name": "stderr",
     "output_type": "stream",
     "text": [
      "  2%|▎         | 1/40 [00:24<15:51, 24.39s/it]"
     ]
    },
    {
     "name": "stdout",
     "output_type": "stream",
     "text": [
      "Epoch: 1 \tTraining Loss: 0.2393\n",
      "Epoch: 1 \tValidation Loss: 0.2527\n"
     ]
    },
    {
     "name": "stderr",
     "output_type": "stream",
     "text": [
      "  5%|▌         | 2/40 [00:48<15:27, 24.39s/it]"
     ]
    },
    {
     "name": "stdout",
     "output_type": "stream",
     "text": [
      "Epoch: 2 \tTraining Loss: 0.2393\n",
      "Epoch: 2 \tValidation Loss: 0.2511\n"
     ]
    },
    {
     "name": "stderr",
     "output_type": "stream",
     "text": [
      "  8%|▊         | 3/40 [01:13<15:02, 24.40s/it]"
     ]
    },
    {
     "name": "stdout",
     "output_type": "stream",
     "text": [
      "Epoch: 3 \tTraining Loss: 0.2389\n",
      "Epoch: 3 \tValidation Loss: 0.2538\n"
     ]
    },
    {
     "name": "stderr",
     "output_type": "stream",
     "text": [
      " 10%|█         | 4/40 [01:37<14:38, 24.40s/it]"
     ]
    },
    {
     "name": "stdout",
     "output_type": "stream",
     "text": [
      "Epoch: 4 \tTraining Loss: 0.2379\n",
      "Epoch: 4 \tValidation Loss: 0.2532\n"
     ]
    },
    {
     "name": "stderr",
     "output_type": "stream",
     "text": [
      " 12%|█▎        | 5/40 [02:02<14:16, 24.46s/it]"
     ]
    },
    {
     "name": "stdout",
     "output_type": "stream",
     "text": [
      "Epoch: 5 \tTraining Loss: 0.2376\n",
      "Epoch: 5 \tValidation Loss: 0.2518\n"
     ]
    },
    {
     "name": "stderr",
     "output_type": "stream",
     "text": [
      " 15%|█▌        | 6/40 [02:26<13:51, 24.46s/it]"
     ]
    },
    {
     "name": "stdout",
     "output_type": "stream",
     "text": [
      "Epoch: 6 \tTraining Loss: 0.2364\n",
      "Epoch: 6 \tValidation Loss: 0.2535\n"
     ]
    },
    {
     "name": "stderr",
     "output_type": "stream",
     "text": [
      " 18%|█▊        | 7/40 [02:51<13:26, 24.45s/it]"
     ]
    },
    {
     "name": "stdout",
     "output_type": "stream",
     "text": [
      "Epoch: 7 \tTraining Loss: 0.2370\n",
      "Epoch: 7 \tValidation Loss: 0.2543\n"
     ]
    },
    {
     "name": "stderr",
     "output_type": "stream",
     "text": [
      " 20%|██        | 8/40 [03:15<13:02, 24.44s/it]"
     ]
    },
    {
     "name": "stdout",
     "output_type": "stream",
     "text": [
      "Epoch: 8 \tTraining Loss: 0.2364\n",
      "Epoch: 8 \tValidation Loss: 0.2540\n"
     ]
    },
    {
     "name": "stderr",
     "output_type": "stream",
     "text": [
      " 22%|██▎       | 9/40 [03:39<12:37, 24.45s/it]"
     ]
    },
    {
     "name": "stdout",
     "output_type": "stream",
     "text": [
      "Epoch: 9 \tTraining Loss: 0.2356\n",
      "Epoch: 9 \tValidation Loss: 0.2540\n"
     ]
    },
    {
     "name": "stderr",
     "output_type": "stream",
     "text": [
      " 25%|██▌       | 10/40 [04:04<12:13, 24.44s/it]"
     ]
    },
    {
     "name": "stdout",
     "output_type": "stream",
     "text": [
      "Epoch: 10 \tTraining Loss: 0.2347\n",
      "Epoch: 10 \tValidation Loss: 0.2540\n"
     ]
    },
    {
     "name": "stderr",
     "output_type": "stream",
     "text": [
      " 28%|██▊       | 11/40 [04:28<11:48, 24.44s/it]"
     ]
    },
    {
     "name": "stdout",
     "output_type": "stream",
     "text": [
      "Epoch: 11 \tTraining Loss: 0.2352\n",
      "Epoch: 11 \tValidation Loss: 0.2560\n"
     ]
    },
    {
     "name": "stderr",
     "output_type": "stream",
     "text": [
      " 30%|███       | 12/40 [04:53<11:23, 24.42s/it]"
     ]
    },
    {
     "name": "stdout",
     "output_type": "stream",
     "text": [
      "Epoch: 12 \tTraining Loss: 0.2348\n",
      "Epoch: 12 \tValidation Loss: 0.2540\n"
     ]
    },
    {
     "name": "stderr",
     "output_type": "stream",
     "text": [
      " 32%|███▎      | 13/40 [05:17<10:59, 24.43s/it]"
     ]
    },
    {
     "name": "stdout",
     "output_type": "stream",
     "text": [
      "Epoch: 13 \tTraining Loss: 0.2345\n",
      "Epoch: 13 \tValidation Loss: 0.2558\n"
     ]
    },
    {
     "name": "stderr",
     "output_type": "stream",
     "text": [
      " 35%|███▌      | 14/40 [05:42<10:35, 24.42s/it]"
     ]
    },
    {
     "name": "stdout",
     "output_type": "stream",
     "text": [
      "Epoch: 14 \tTraining Loss: 0.2331\n",
      "Epoch: 14 \tValidation Loss: 0.2566\n"
     ]
    },
    {
     "name": "stderr",
     "output_type": "stream",
     "text": [
      " 38%|███▊      | 15/40 [06:06<10:10, 24.42s/it]"
     ]
    },
    {
     "name": "stdout",
     "output_type": "stream",
     "text": [
      "Epoch: 15 \tTraining Loss: 0.2326\n",
      "Epoch: 15 \tValidation Loss: 0.2546\n"
     ]
    },
    {
     "name": "stderr",
     "output_type": "stream",
     "text": [
      " 40%|████      | 16/40 [06:30<09:46, 24.42s/it]"
     ]
    },
    {
     "name": "stdout",
     "output_type": "stream",
     "text": [
      "Epoch: 16 \tTraining Loss: 0.2324\n",
      "Epoch: 16 \tValidation Loss: 0.2552\n"
     ]
    },
    {
     "name": "stderr",
     "output_type": "stream",
     "text": [
      " 42%|████▎     | 17/40 [06:55<09:21, 24.42s/it]"
     ]
    },
    {
     "name": "stdout",
     "output_type": "stream",
     "text": [
      "Epoch: 17 \tTraining Loss: 0.2319\n",
      "Epoch: 17 \tValidation Loss: 0.2572\n"
     ]
    },
    {
     "name": "stderr",
     "output_type": "stream",
     "text": [
      " 45%|████▌     | 18/40 [07:19<08:58, 24.46s/it]"
     ]
    },
    {
     "name": "stdout",
     "output_type": "stream",
     "text": [
      "Epoch: 18 \tTraining Loss: 0.2311\n",
      "Epoch: 18 \tValidation Loss: 0.2568\n"
     ]
    },
    {
     "name": "stderr",
     "output_type": "stream",
     "text": [
      " 48%|████▊     | 19/40 [07:44<08:33, 24.46s/it]"
     ]
    },
    {
     "name": "stdout",
     "output_type": "stream",
     "text": [
      "Epoch: 19 \tTraining Loss: 0.2304\n",
      "Epoch: 19 \tValidation Loss: 0.2574\n"
     ]
    },
    {
     "name": "stderr",
     "output_type": "stream",
     "text": [
      " 50%|█████     | 20/40 [08:08<08:08, 24.42s/it]"
     ]
    },
    {
     "name": "stdout",
     "output_type": "stream",
     "text": [
      "Epoch: 20 \tTraining Loss: 0.2310\n",
      "Epoch: 20 \tValidation Loss: 0.2568\n"
     ]
    },
    {
     "name": "stderr",
     "output_type": "stream",
     "text": [
      " 52%|█████▎    | 21/40 [08:33<07:44, 24.43s/it]"
     ]
    },
    {
     "name": "stdout",
     "output_type": "stream",
     "text": [
      "Epoch: 21 \tTraining Loss: 0.2296\n",
      "Epoch: 21 \tValidation Loss: 0.2556\n"
     ]
    },
    {
     "name": "stderr",
     "output_type": "stream",
     "text": [
      " 55%|█████▌    | 22/40 [08:57<07:19, 24.42s/it]"
     ]
    },
    {
     "name": "stdout",
     "output_type": "stream",
     "text": [
      "Epoch: 22 \tTraining Loss: 0.2292\n",
      "Epoch: 22 \tValidation Loss: 0.2567\n"
     ]
    },
    {
     "name": "stderr",
     "output_type": "stream",
     "text": [
      " 57%|█████▊    | 23/40 [09:21<06:55, 24.42s/it]"
     ]
    },
    {
     "name": "stdout",
     "output_type": "stream",
     "text": [
      "Epoch: 23 \tTraining Loss: 0.2283\n",
      "Epoch: 23 \tValidation Loss: 0.2578\n"
     ]
    },
    {
     "name": "stderr",
     "output_type": "stream",
     "text": [
      " 60%|██████    | 24/40 [09:46<06:30, 24.42s/it]"
     ]
    },
    {
     "name": "stdout",
     "output_type": "stream",
     "text": [
      "Epoch: 24 \tTraining Loss: 0.2276\n",
      "Epoch: 24 \tValidation Loss: 0.2594\n"
     ]
    },
    {
     "name": "stderr",
     "output_type": "stream",
     "text": [
      " 62%|██████▎   | 25/40 [10:10<06:06, 24.42s/it]"
     ]
    },
    {
     "name": "stdout",
     "output_type": "stream",
     "text": [
      "Epoch: 25 \tTraining Loss: 0.2273\n",
      "Epoch: 25 \tValidation Loss: 0.2570\n"
     ]
    },
    {
     "name": "stderr",
     "output_type": "stream",
     "text": [
      " 65%|██████▌   | 26/40 [10:35<05:41, 24.42s/it]"
     ]
    },
    {
     "name": "stdout",
     "output_type": "stream",
     "text": [
      "Epoch: 26 \tTraining Loss: 0.2266\n",
      "Epoch: 26 \tValidation Loss: 0.2595\n"
     ]
    },
    {
     "name": "stderr",
     "output_type": "stream",
     "text": [
      " 68%|██████▊   | 27/40 [10:59<05:17, 24.43s/it]"
     ]
    },
    {
     "name": "stdout",
     "output_type": "stream",
     "text": [
      "Epoch: 27 \tTraining Loss: 0.2258\n",
      "Epoch: 27 \tValidation Loss: 0.2595\n"
     ]
    },
    {
     "name": "stderr",
     "output_type": "stream",
     "text": [
      " 70%|███████   | 28/40 [11:23<04:52, 24.41s/it]"
     ]
    },
    {
     "name": "stdout",
     "output_type": "stream",
     "text": [
      "Epoch: 28 \tTraining Loss: 0.2245\n",
      "Epoch: 28 \tValidation Loss: 0.2599\n"
     ]
    },
    {
     "name": "stderr",
     "output_type": "stream",
     "text": [
      " 72%|███████▎  | 29/40 [11:48<04:28, 24.45s/it]"
     ]
    },
    {
     "name": "stdout",
     "output_type": "stream",
     "text": [
      "Epoch: 29 \tTraining Loss: 0.2234\n",
      "Epoch: 29 \tValidation Loss: 0.2599\n"
     ]
    },
    {
     "name": "stderr",
     "output_type": "stream",
     "text": [
      " 75%|███████▌  | 30/40 [12:12<04:04, 24.43s/it]"
     ]
    },
    {
     "name": "stdout",
     "output_type": "stream",
     "text": [
      "Epoch: 30 \tTraining Loss: 0.2230\n",
      "Epoch: 30 \tValidation Loss: 0.2620\n"
     ]
    },
    {
     "name": "stderr",
     "output_type": "stream",
     "text": [
      " 78%|███████▊  | 31/40 [12:37<03:40, 24.47s/it]"
     ]
    },
    {
     "name": "stdout",
     "output_type": "stream",
     "text": [
      "Epoch: 31 \tTraining Loss: 0.2221\n",
      "Epoch: 31 \tValidation Loss: 0.2640\n"
     ]
    },
    {
     "name": "stderr",
     "output_type": "stream",
     "text": [
      " 80%|████████  | 32/40 [13:01<03:15, 24.43s/it]"
     ]
    },
    {
     "name": "stdout",
     "output_type": "stream",
     "text": [
      "Epoch: 32 \tTraining Loss: 0.2220\n",
      "Epoch: 32 \tValidation Loss: 0.2636\n"
     ]
    },
    {
     "name": "stderr",
     "output_type": "stream",
     "text": [
      " 82%|████████▎ | 33/40 [13:26<02:51, 24.48s/it]"
     ]
    },
    {
     "name": "stdout",
     "output_type": "stream",
     "text": [
      "Epoch: 33 \tTraining Loss: 0.2211\n",
      "Epoch: 33 \tValidation Loss: 0.2634\n"
     ]
    },
    {
     "name": "stderr",
     "output_type": "stream",
     "text": [
      " 85%|████████▌ | 34/40 [13:50<02:26, 24.45s/it]"
     ]
    },
    {
     "name": "stdout",
     "output_type": "stream",
     "text": [
      "Epoch: 34 \tTraining Loss: 0.2192\n",
      "Epoch: 34 \tValidation Loss: 0.2645\n"
     ]
    },
    {
     "name": "stderr",
     "output_type": "stream",
     "text": [
      " 88%|████████▊ | 35/40 [14:15<02:02, 24.44s/it]"
     ]
    },
    {
     "name": "stdout",
     "output_type": "stream",
     "text": [
      "Epoch: 35 \tTraining Loss: 0.2188\n",
      "Epoch: 35 \tValidation Loss: 0.2650\n"
     ]
    },
    {
     "name": "stderr",
     "output_type": "stream",
     "text": [
      " 90%|█████████ | 36/40 [14:39<01:37, 24.44s/it]"
     ]
    },
    {
     "name": "stdout",
     "output_type": "stream",
     "text": [
      "Epoch: 36 \tTraining Loss: 0.2178\n",
      "Epoch: 36 \tValidation Loss: 0.2645\n"
     ]
    },
    {
     "name": "stderr",
     "output_type": "stream",
     "text": [
      " 92%|█████████▎| 37/40 [15:04<01:13, 24.42s/it]"
     ]
    },
    {
     "name": "stdout",
     "output_type": "stream",
     "text": [
      "Epoch: 37 \tTraining Loss: 0.2167\n",
      "Epoch: 37 \tValidation Loss: 0.2648\n"
     ]
    },
    {
     "name": "stderr",
     "output_type": "stream",
     "text": [
      " 95%|█████████▌| 38/40 [15:28<00:48, 24.43s/it]"
     ]
    },
    {
     "name": "stdout",
     "output_type": "stream",
     "text": [
      "Epoch: 38 \tTraining Loss: 0.2147\n",
      "Epoch: 38 \tValidation Loss: 0.2660\n"
     ]
    },
    {
     "name": "stderr",
     "output_type": "stream",
     "text": [
      " 98%|█████████▊| 39/40 [15:52<00:24, 24.43s/it]"
     ]
    },
    {
     "name": "stdout",
     "output_type": "stream",
     "text": [
      "Epoch: 39 \tTraining Loss: 0.2143\n",
      "Epoch: 39 \tValidation Loss: 0.2684\n"
     ]
    },
    {
     "name": "stderr",
     "output_type": "stream",
     "text": [
      "100%|██████████| 40/40 [16:17<00:00, 24.43s/it]"
     ]
    },
    {
     "name": "stdout",
     "output_type": "stream",
     "text": [
      "Epoch: 40 \tTraining Loss: 0.2143\n",
      "Epoch: 40 \tValidation Loss: 0.2684\n",
      "Finished Training\n"
     ]
    },
    {
     "name": "stderr",
     "output_type": "stream",
     "text": [
      "\n"
     ]
    }
   ],
   "source": [
    "from tqdm import tqdm\n",
    "train_errors, validation_errors = [],[]\n",
    "for i in tqdm(range(epochs)):\n",
    "    \n",
    "    training_loss, validation_loss = 0.0, 0.0\n",
    "    for images, coords in train_dataloader:\n",
    "        images,coords = images.float(), coords.float()\n",
    "        images = images.to(device)\n",
    "        coords = coords.to(device)\n",
    "        optimizer.zero_grad()\n",
    "\n",
    "        # forward + backward + optimize\n",
    "        output = model(images)\n",
    "        #Train loss\n",
    "        loss = torch.sqrt(criterion(output, coords)) #Take the RMSE of the errors \n",
    "        loss.backward()\n",
    "        optimizer.step()\n",
    "        #Update training loss \n",
    "        training_loss += loss.item()\n",
    "\n",
    "        #Model Validation\n",
    "    else:\n",
    "        with torch.no_grad(): #Gradient tape is cancelled for validation\n",
    "            for val_images, val_coords in val_dataloader:\n",
    "                val_images, val_coords = val_images.float(), val_coords.float()\n",
    "                val_images = val_images.to(device)\n",
    "                val_coords = val_coords.to(device)\n",
    "                val_output = model(val_images)\n",
    "                val_loss = torch.sqrt(criterion(val_output,val_coords))\n",
    "                validation_loss += val_loss.item()\n",
    "                \n",
    "        train_loss = training_loss/len(train_dataloader)\n",
    "        valid_loss = validation_loss/len(val_dataloader)\n",
    "\n",
    "        train_errors.append(train_loss)\n",
    "        validation_errors.append(valid_loss)\n",
    "\n",
    "#         Print epoch training\n",
    "    print('Epoch: {} \\tTraining Loss: {:.4f}'.format(\n",
    "    i+1, train_loss))\n",
    "    print('Epoch: {} \\tValidation Loss: {:.4f}'.format(\n",
    "    i+1, valid_loss))\n",
    "\n",
    "print('Finished Training')\n",
    "\n",
    "\n",
    "# *****END CODE"
   ]
  },
  {
   "cell_type": "code",
   "execution_count": 37,
   "id": "d98f3822",
   "metadata": {
    "execution": {
     "iopub.execute_input": "2022-01-16T01:44:51.666804Z",
     "iopub.status.busy": "2022-01-16T01:44:51.665994Z",
     "iopub.status.idle": "2022-01-16T01:44:51.832199Z",
     "shell.execute_reply": "2022-01-16T01:44:51.831509Z",
     "shell.execute_reply.started": "2022-01-16T00:08:48.759398Z"
    },
    "papermill": {
     "duration": 0.508834,
     "end_time": "2022-01-16T01:44:51.832327",
     "exception": false,
     "start_time": "2022-01-16T01:44:51.323493",
     "status": "completed"
    },
    "tags": []
   },
   "outputs": [
    {
     "data": {
      "image/png": "[encoded data removed]",
      "text/plain": [
       "<Figure size 360x360 with 1 Axes>"
      ]
     },
     "metadata": {
      "needs_background": "light"
     },
     "output_type": "display_data"
    }
   ],
   "source": [
    "pred = model(val_images[0:4])[1]\n",
    "visualize_prediction(val_images[1].detach().cpu(),pred.detach().cpu())"
   ]
  },
  {
   "cell_type": "markdown",
   "id": "d06a6fc3",
   "metadata": {
    "papermill": {
     "duration": 0.336275,
     "end_time": "2022-01-16T01:44:52.508442",
     "exception": false,
     "start_time": "2022-01-16T01:44:52.172167",
     "status": "completed"
    },
    "tags": []
   },
   "source": [
    "It seems that with normalization of the input X-tensor, the accuracy does jump up and we see a better prediction of the triangle's edges"
   ]
  }
 ],
 "metadata": {
  "kernelspec": {
   "display_name": "Python 3",
   "language": "python",
   "name": "python3"
  },
  "language_info": {
   "codemirror_mode": {
    "name": "ipython",
    "version": 3
   },
   "file_extension": ".py",
   "mimetype": "text/x-python",
   "name": "python",
   "nbconvert_exporter": "python",
   "pygments_lexer": "ipython3",
   "version": "3.7.12"
  },
  "papermill": {
   "default_parameters": {},
   "duration": 3453.622867,
   "end_time": "2022-01-16T01:44:55.760394",
   "environment_variables": {},
   "exception": null,
   "input_path": "__notebook__.ipynb",
   "output_path": "__notebook__.ipynb",
   "parameters": {},
   "start_time": "2022-01-16T00:47:22.137527",
   "version": "2.3.3"
  },
  "widgets": {
   "application/vnd.jupyter.widget-state+json": {
    "state": {
     "0a2cf94a59f5448aac90115074897e52": {
      "model_module": "@jupyter-widgets/base",
      "model_module_version": "1.2.0",
      "model_name": "LayoutModel",
      "state": {
       "_model_module": "@jupyter-widgets/base",
       "_model_module_version": "1.2.0",
       "_model_name": "LayoutModel",
       "_view_count": null,
       "_view_module": "@jupyter-widgets/base",
       "_view_module_version": "1.2.0",
       "_view_name": "LayoutView",
       "align_content": null,
       "align_items": null,
       "align_self": null,
       "border": null,
       "bottom": null,
       "display": null,
       "flex": null,
       "flex_flow": null,
       "grid_area": null,
       "grid_auto_columns": null,
       "grid_auto_flow": null,
       "grid_auto_rows": null,
       "grid_column": null,
       "grid_gap": null,
       "grid_row": null,
       "grid_template_areas": null,
       "grid_template_columns": null,
       "grid_template_rows": null,
       "height": null,
       "justify_content": null,
       "justify_items": null,
       "left": null,
       "margin": null,
       "max_height": null,
       "max_width": null,
       "min_height": null,
       "min_width": null,
       "object_fit": null,
       "object_position": null,
       "order": null,
       "overflow": null,
       "overflow_x": null,
       "overflow_y": null,
       "padding": null,
       "right": null,
       "top": null,
       "visibility": null,
       "width": null
      }
     },
     "135102fc3f484be8ac5d8c722fc95f61": {
      "model_module": "@jupyter-widgets/controls",
      "model_module_version": "1.5.0",
      "model_name": "ProgressStyleModel",
      "state": {
       "_model_module": "@jupyter-widgets/controls",
       "_model_module_version": "1.5.0",
       "_model_name": "ProgressStyleModel",
       "_view_count": null,
       "_view_module": "@jupyter-widgets/base",
       "_view_module_version": "1.2.0",
       "_view_name": "StyleView",
       "bar_color": null,
       "description_width": ""
      }
     },
     "18f57ad99da84a6b9356c342713560e3": {
      "model_module": "@jupyter-widgets/controls",
      "model_module_version": "1.5.0",
      "model_name": "HTMLModel",
      "state": {
       "_dom_classes": [],
       "_model_module": "@jupyter-widgets/controls",
       "_model_module_version": "1.5.0",
       "_model_name": "HTMLModel",
       "_view_count": null,
       "_view_module": "@jupyter-widgets/controls",
       "_view_module_version": "1.5.0",
       "_view_name": "HTMLView",
       "description": "",
       "description_tooltip": null,
       "layout": "IPY_MODEL_682d48a1d58a4e308a710eddf30b4046",
       "placeholder": "​",
       "style": "IPY_MODEL_553af9c182214c76a3d2529763070fca",
       "value": " 170499072/? [00:02&lt;00:00, 89965784.19it/s]"
      }
     },
     "1a34284127de45139ec5ca0c6bca6c24": {
      "model_module": "@jupyter-widgets/base",
      "model_module_version": "1.2.0",
      "model_name": "LayoutModel",
      "state": {
       "_model_module": "@jupyter-widgets/base",
       "_model_module_version": "1.2.0",
       "_model_name": "LayoutModel",
       "_view_count": null,
       "_view_module": "@jupyter-widgets/base",
       "_view_module_version": "1.2.0",
       "_view_name": "LayoutView",
       "align_content": null,
       "align_items": null,
       "align_self": null,
       "border": null,
       "bottom": null,
       "display": null,
       "flex": null,
       "flex_flow": null,
       "grid_area": null,
       "grid_auto_columns": null,
       "grid_auto_flow": null,
       "grid_auto_rows": null,
       "grid_column": null,
       "grid_gap": null,
       "grid_row": null,
       "grid_template_areas": null,
       "grid_template_columns": null,
       "grid_template_rows": null,
       "height": null,
       "justify_content": null,
       "justify_items": null,
       "left": null,
       "margin": null,
       "max_height": null,
       "max_width": null,
       "min_height": null,
       "min_width": null,
       "object_fit": null,
       "object_position": null,
       "order": null,
       "overflow": null,
       "overflow_x": null,
       "overflow_y": null,
       "padding": null,
       "right": null,
       "top": null,
       "visibility": null,
       "width": null
      }
     },
     "3183e635115c4c9dba16e5a8837595c8": {
      "model_module": "@jupyter-widgets/controls",
      "model_module_version": "1.5.0",
      "model_name": "DescriptionStyleModel",
      "state": {
       "_model_module": "@jupyter-widgets/controls",
       "_model_module_version": "1.5.0",
       "_model_name": "DescriptionStyleModel",
       "_view_count": null,
       "_view_module": "@jupyter-widgets/base",
       "_view_module_version": "1.2.0",
       "_view_name": "StyleView",
       "description_width": ""
      }
     },
     "438ef8075f8c484badf56d7bec2411f1": {
      "model_module": "@jupyter-widgets/controls",
      "model_module_version": "1.5.0",
      "model_name": "HBoxModel",
      "state": {
       "_dom_classes": [],
       "_model_module": "@jupyter-widgets/controls",
       "_model_module_version": "1.5.0",
       "_model_name": "HBoxModel",
       "_view_count": null,
       "_view_module": "@jupyter-widgets/controls",
       "_view_module_version": "1.5.0",
       "_view_name": "HBoxView",
       "box_style": "",
       "children": [
        "IPY_MODEL_5caea3c7d69845c1b7a6a59ad299514c",
        "IPY_MODEL_8050075de6274ed5bf98d1c82a88e1a3",
        "IPY_MODEL_18f57ad99da84a6b9356c342713560e3"
       ],
       "layout": "IPY_MODEL_0a2cf94a59f5448aac90115074897e52"
      }
     },
     "553af9c182214c76a3d2529763070fca": {
      "model_module": "@jupyter-widgets/controls",
      "model_module_version": "1.5.0",
      "model_name": "DescriptionStyleModel",
      "state": {
       "_model_module": "@jupyter-widgets/controls",
       "_model_module_version": "1.5.0",
       "_model_name": "DescriptionStyleModel",
       "_view_count": null,
       "_view_module": "@jupyter-widgets/base",
       "_view_module_version": "1.2.0",
       "_view_name": "StyleView",
       "description_width": ""
      }
     },
     "5caea3c7d69845c1b7a6a59ad299514c": {
      "model_module": "@jupyter-widgets/controls",
      "model_module_version": "1.5.0",
      "model_name": "HTMLModel",
      "state": {
       "_dom_classes": [],
       "_model_module": "@jupyter-widgets/controls",
       "_model_module_version": "1.5.0",
       "_model_name": "HTMLModel",
       "_view_count": null,
       "_view_module": "@jupyter-widgets/controls",
       "_view_module_version": "1.5.0",
       "_view_name": "HTMLView",
       "description": "",
       "description_tooltip": null,
       "layout": "IPY_MODEL_1a34284127de45139ec5ca0c6bca6c24",
       "placeholder": "​",
       "style": "IPY_MODEL_3183e635115c4c9dba16e5a8837595c8",
       "value": ""
      }
     },
     "682d48a1d58a4e308a710eddf30b4046": {
      "model_module": "@jupyter-widgets/base",
      "model_module_version": "1.2.0",
      "model_name": "LayoutModel",
      "state": {
       "_model_module": "@jupyter-widgets/base",
       "_model_module_version": "1.2.0",
       "_model_name": "LayoutModel",
       "_view_count": null,
       "_view_module": "@jupyter-widgets/base",
       "_view_module_version": "1.2.0",
       "_view_name": "LayoutView",
       "align_content": null,
       "align_items": null,
       "align_self": null,
       "border": null,
       "bottom": null,
       "display": null,
       "flex": null,
       "flex_flow": null,
       "grid_area": null,
       "grid_auto_columns": null,
       "grid_auto_flow": null,
       "grid_auto_rows": null,
       "grid_column": null,
       "grid_gap": null,
       "grid_row": null,
       "grid_template_areas": null,
       "grid_template_columns": null,
       "grid_template_rows": null,
       "height": null,
       "justify_content": null,
       "justify_items": null,
       "left": null,
       "margin": null,
       "max_height": null,
       "max_width": null,
       "min_height": null,
       "min_width": null,
       "object_fit": null,
       "object_position": null,
       "order": null,
       "overflow": null,
       "overflow_x": null,
       "overflow_y": null,
       "padding": null,
       "right": null,
       "top": null,
       "visibility": null,
       "width": null
      }
     },
     "8050075de6274ed5bf98d1c82a88e1a3": {
      "model_module": "@jupyter-widgets/controls",
      "model_module_version": "1.5.0",
      "model_name": "FloatProgressModel",
      "state": {
       "_dom_classes": [],
       "_model_module": "@jupyter-widgets/controls",
       "_model_module_version": "1.5.0",
       "_model_name": "FloatProgressModel",
       "_view_count": null,
       "_view_module": "@jupyter-widgets/controls",
       "_view_module_version": "1.5.0",
       "_view_name": "ProgressView",
       "bar_style": "success",
       "description": "",
       "description_tooltip": null,
       "layout": "IPY_MODEL_8d4e47b0ca094e25afc11dc2f6e17295",
       "max": 170498071.0,
       "min": 0.0,
       "orientation": "horizontal",
       "style": "IPY_MODEL_135102fc3f484be8ac5d8c722fc95f61",
       "value": 170498071.0
      }
     },
     "8d4e47b0ca094e25afc11dc2f6e17295": {
      "model_module": "@jupyter-widgets/base",
      "model_module_version": "1.2.0",
      "model_name": "LayoutModel",
      "state": {
       "_model_module": "@jupyter-widgets/base",
       "_model_module_version": "1.2.0",
       "_model_name": "LayoutModel",
       "_view_count": null,
       "_view_module": "@jupyter-widgets/base",
       "_view_module_version": "1.2.0",
       "_view_name": "LayoutView",
       "align_content": null,
       "align_items": null,
       "align_self": null,
       "border": null,
       "bottom": null,
       "display": null,
       "flex": null,
       "flex_flow": null,
       "grid_area": null,
       "grid_auto_columns": null,
       "grid_auto_flow": null,
       "grid_auto_rows": null,
       "grid_column": null,
       "grid_gap": null,
       "grid_row": null,
       "grid_template_areas": null,
       "grid_template_columns": null,
       "grid_template_rows": null,
       "height": null,
       "justify_content": null,
       "justify_items": null,
       "left": null,
       "margin": null,
       "max_height": null,
       "max_width": null,
       "min_height": null,
       "min_width": null,
       "object_fit": null,
       "object_position": null,
       "order": null,
       "overflow": null,
       "overflow_x": null,
       "overflow_y": null,
       "padding": null,
       "right": null,
       "top": null,
       "visibility": null,
       "width": null
      }
     }
    },
    "version_major": 2,
    "version_minor": 0
   }
  }
 },
 "nbformat": 4,
 "nbformat_minor": 5
}
